{
  "nbformat": 4,
  "nbformat_minor": 0,
  "metadata": {
    "colab": {
      "provenance": [],
      "authorship_tag": "ABX9TyO4LtV/8VHv+hoz9D2VVM8S",
      "include_colab_link": true
    },
    "kernelspec": {
      "name": "python3",
      "display_name": "Python 3"
    },
    "language_info": {
      "name": "python"
    }
  },
  "cells": [
    {
      "cell_type": "markdown",
      "metadata": {
        "id": "view-in-github",
        "colab_type": "text"
      },
      "source": [
        "<a href=\"https://colab.research.google.com/github/PabloAndree/Python_PA/blob/main/Pablo_AquinoG.ipynb\" target=\"_parent\"><img src=\"https://colab.research.google.com/assets/colab-badge.svg\" alt=\"Open In Colab\"/></a>"
      ]
    },
    {
      "cell_type": "markdown",
      "source": [],
      "metadata": {
        "id": "RlF6oYLWYWZ0"
      }
    },
    {
      "cell_type": "code",
      "execution_count": null,
      "metadata": {
        "id": "JVQrl6acX67l"
      },
      "outputs": [],
      "source": [
        "\n",
        "\n"
      ]
    },
    {
      "cell_type": "markdown",
      "source": [
        "Ejercicio 1.\n",
        "\n",
        "A continuación, tienes un objeto que registra las ventas semanales de una tienda de electrodomésticos, se registra en el siguiente orden, desde la primera semana a la doceava semana. (5 puntos)\n",
        "\n",
        "Ventas_semanales = [25000, 28000, 31000, 27500, 33000, 29000,\n",
        "35000, 32000, 30000, 28500, 26000, 33500]\n",
        "\n",
        "1.1.\tIdentifica la semana con el mejor resultado de venta.\n",
        "1.2.\tIdentifica la semana con el peor resultado de venta.\n",
        "1.3.\tCalcula la venta promedio de la tienda.\n",
        "1.4.\tCalcula alguna medida de dispersión de las ventas.\n",
        "1.5.\tCrea un diccionario con la información registrada en los puntos anteriores y nómbralo como info_ventas.\n"
      ],
      "metadata": {
        "id": "p64sDQcpYZxs"
      }
    },
    {
      "cell_type": "code",
      "source": [
        "Ventas_semanales = [25000, 28000, 31000, 27500, 33000, 29000, 35000, 32000, 30000, 28500, 26000, 33500]\n",
        "\n"
      ],
      "metadata": {
        "id": "43rIuzC3YeVY"
      },
      "execution_count": null,
      "outputs": []
    },
    {
      "cell_type": "code",
      "source": [
        "Máximo = max(Ventas_semanales)"
      ],
      "metadata": {
        "id": "zXiWKDEtg01k"
      },
      "execution_count": null,
      "outputs": []
    },
    {
      "cell_type": "code",
      "source": [
        "#1.1. Identifica la semana con el mejor resultado de venta.##\n",
        "\n",
        "mejor_resultado = max(Ventas_semanales)\n",
        "semana_mejor_resultado = Ventas_semanales.index(mejor_resultado) + 1\n",
        "print(f'La semana con el mejor resultado de ventas es: La semana {semana_mejor_resultado} y con una venta máxima de {mejor_resultado}')"
      ],
      "metadata": {
        "colab": {
          "base_uri": "https://localhost:8080/"
        },
        "id": "2f6nporoZ0g9",
        "outputId": "e8227cfd-9366-4201-8e36-4dc54ed48734"
      },
      "execution_count": null,
      "outputs": [
        {
          "output_type": "stream",
          "name": "stdout",
          "text": [
            "La semana con el mejor resultado de ventas es: La semana 7 y con una venta máxima de 35000\n"
          ]
        }
      ]
    },
    {
      "cell_type": "code",
      "source": [
        "#1.2. Identifica la semana con el peor resultado de venta.##\n",
        "\n",
        "peor_resultado = min(Ventas_semanales)\n",
        "semana_peor_resultado = Ventas_semanales.index(peor_resultado) + 1\n",
        "print(f'La semana con el peor resultado de ventas es: La semana {semana_peor_resultado} y con una venta mínima de {peor_resultado}')"
      ],
      "metadata": {
        "colab": {
          "base_uri": "https://localhost:8080/"
        },
        "id": "xS0Px9peaFs6",
        "outputId": "57fdaa6a-ead4-4470-89b5-ee860466af5c"
      },
      "execution_count": null,
      "outputs": [
        {
          "output_type": "stream",
          "name": "stdout",
          "text": [
            "La semana con el peor resultado de ventas es: La semana 1 y con una venta mínima de 25000\n"
          ]
        }
      ]
    },
    {
      "cell_type": "code",
      "source": [
        "#1.3. Calcula la venta promedio de la tienda.##\n",
        "\n",
        "suma = sum(Ventas_semanales)\n",
        "cantidad = len(Ventas_semanales)\n",
        "promedio = suma/cantidad\n",
        "\n",
        "print(f'La venta promedio de la tienda es: {promedio}')"
      ],
      "metadata": {
        "colab": {
          "base_uri": "https://localhost:8080/"
        },
        "id": "zSPYsRLGaO8Q",
        "outputId": "ce824208-3860-4fb4-dbe5-ca313e7ddf1f"
      },
      "execution_count": null,
      "outputs": [
        {
          "output_type": "stream",
          "name": "stdout",
          "text": [
            "La venta promedio de la tienda es: 29875.0\n"
          ]
        }
      ]
    },
    {
      "cell_type": "code",
      "source": [
        "#1.4. Calcula alguna medida de dispersión de las ventas.##\n",
        "\n",
        "#Desviación estandar\n",
        "media = suma/cantidad\n",
        "suma_cuadrados_diferencias = sum((i - media) ** 2 for i in Ventas_semanales)\n",
        "varianza = suma_cuadrados_diferencias / cantidad\n",
        "desviacion_estandar = varianza ** 0.5\n",
        "\n",
        "print(f'La desviación estandar de las ventas es: {desviacion_estandar}')"
      ],
      "metadata": {
        "colab": {
          "base_uri": "https://localhost:8080/"
        },
        "id": "BWOXJSQranwk",
        "outputId": "6abfdc14-4454-4141-bb93-384956376944"
      },
      "execution_count": null,
      "outputs": [
        {
          "output_type": "stream",
          "name": "stdout",
          "text": [
            "La desviación estandar de las ventas es: 2965.952629426168\n"
          ]
        }
      ]
    },
    {
      "cell_type": "code",
      "source": [
        "#1.5. Crea un diccionario con la información registrada en los puntos anteriores y nómbralo como info_ventas.#\n",
        "\n",
        "info_ventas = {'Máxima Venta': mejor_resultado, 'Minimo Venta': peor_resultado,'Venta promedio':promedio, 'Dispersión': desviacion_estandar}\n",
        "info_ventas"
      ],
      "metadata": {
        "colab": {
          "base_uri": "https://localhost:8080/"
        },
        "id": "2ydqyHWudabQ",
        "outputId": "536166ae-e0df-47dc-8efd-e54abcca0d3d"
      },
      "execution_count": null,
      "outputs": [
        {
          "output_type": "execute_result",
          "data": {
            "text/plain": [
              "{'Máxima Venta': 35000,\n",
              " 'Minimo Venta': 25000,\n",
              " 'Venta promedio': 29875.0,\n",
              " 'Dispersión': 2965.952629426168}"
            ]
          },
          "metadata": {},
          "execution_count": 27
        }
      ]
    },
    {
      "cell_type": "markdown",
      "source": [],
      "metadata": {
        "id": "OinZeHzkYZtt"
      }
    },
    {
      "cell_type": "markdown",
      "source": [
        "Ejercicio 2.\n",
        "Usted va simular el lanzamiento de dos dados a la vez, para ello es necesario que siga las siguientes instrucciones. (12 puntos)\n",
        "2.1.\tAlmacenar los resultados de lanzar un dado en una tupla de la siguiente manera tupla_dados = (1, 2, 3, 4, 5, 6).\n",
        "2.2.\tUse la función random.choice(tupla_dados) para recrear la selección aleatoria al lanzar un dado. Importe la librería random (import random).\n",
        "2.3.\tSimule el lanzamiento de dos a la vez, registre el valor obtenido por cada lanzamiento de cada dado.\n",
        "2.4.\tIngrese por teclado el número de lanzamientos de ambos dados a la vez.\n",
        "2.5.\tMuestre los lanzamientos resultantes.\n",
        "2.6.\tMuestre la sumatoria de los dos valores resultantes al lanzar dos dados a la vez.\n"
      ],
      "metadata": {
        "id": "a5eNVJx1X2wi"
      }
    },
    {
      "cell_type": "code",
      "source": [
        "##2.1. Almacenar los resultados de lanzar un dado en una tupla de la siguiente manera tupla_dados = (1, 2, 3, 4, 5, 6)##\n",
        "# Definimos la tupla con los resultados de un dado\n",
        "tupla_dados = (1, 2, 3, 4, 5, 6)\n"
      ],
      "metadata": {
        "id": "deQVyyS_Xy07"
      },
      "execution_count": 1,
      "outputs": []
    },
    {
      "cell_type": "code",
      "source": [
        "##2.2. Use la función random.choice(tupla_dados) para recrear la selección aleatoria al lanzar un \"dado\". Importe la librería random (import random)##\n",
        "\n",
        "import random\n",
        "tupla_dados = (1, 2, 3, 4, 5, 6)\n",
        "\n",
        "\n",
        "# Simulamos el lanzamiento de un dado\n",
        "result_dado_1 = random.choice(tupla_dados)\n",
        "\n"
      ],
      "metadata": {
        "id": "HkFnNGfra9nX"
      },
      "execution_count": null,
      "outputs": []
    },
    {
      "cell_type": "code",
      "source": [
        "##2.3. Simule el lanzamiento de dos dados a la vez, registre el valor obtenido por cada lanzamiento de cada dado.##\n",
        "\n",
        "import random\n",
        "\n",
        "tupla_dados = (1, 2, 3, 4, 5, 6)\n",
        "\n",
        "# Simulamos el lanzamiento de dos dados\n",
        "result_dado_1 = random.choice(tupla_dados)\n",
        "result_dado_2 = random.choice(tupla_dados)\n",
        "\n",
        "result_lanzamiento = (result_dado_1, result_dado_2)\n",
        "\n",
        "print(f'Resultado del lanzamiento de dos dados es: {result_lanzamiento}')"
      ],
      "metadata": {
        "id": "NPGyU3Pubb8H"
      },
      "execution_count": null,
      "outputs": []
    },
    {
      "cell_type": "code",
      "source": [
        "##2.4. Ingrese por teclado el número de lanzamientos de ambos dados a la vez.##\n",
        "\n",
        "import random\n",
        "\n",
        "tupla_dados = (1, 2, 3, 4, 5, 6)\n",
        "\n",
        "# Solicitamos al usuario el número de lanzamientos\n",
        "num_lanzamientos = int(input('Ingrese el número de lanzamientos de ambos dados a la vez: '))\n",
        "\n"
      ],
      "metadata": {
        "id": "udfEe7FGcNmO"
      },
      "execution_count": null,
      "outputs": []
    },
    {
      "cell_type": "code",
      "source": [
        "##2.5. Muestre los lanzamientos resultantes.##\n",
        "import random\n",
        "\n",
        "tupla_dados = (1, 2, 3, 4, 5, 6)\n",
        "\n",
        "num_lanzamientos = int(input('Ingrese el número de lanzamientos de ambos dados a la vez: '))\n",
        "\n",
        "results_lanzamientos = []\n",
        "\n",
        "for i in range(num_lanzamientos):\n",
        "  result_dado_1 = random.choice(tupla_dados)\n",
        "  result_dado_2 = random.choice(tupla_dados)\n",
        "  results_lanzamientos.append((result_dado_1, result_dado_2))\n",
        "  i += 1\n",
        "\n",
        "print('Resultados de los lanzamientos: ')\n",
        "for lanzamiento in results_lanzamientos:\n",
        "    print(lanzamiento)"
      ],
      "metadata": {
        "colab": {
          "base_uri": "https://localhost:8080/"
        },
        "id": "0NU1-S1ChvjU",
        "outputId": "7f1df757-8a06-4bad-e4ad-59ac33203448"
      },
      "execution_count": 9,
      "outputs": [
        {
          "output_type": "stream",
          "name": "stdout",
          "text": [
            "Ingrese el número de lanzamientos de ambos dados a la vez: 3\n",
            "Resultados de los lanzamientos: \n",
            "(3, 5)\n",
            "(6, 1)\n",
            "(6, 5)\n"
          ]
        }
      ]
    },
    {
      "cell_type": "code",
      "source": [
        "##2.6. Muestre la sumatoria de los dos valores resultantes al lanzar dos dados a la vez.##\n",
        "\n",
        "import random\n",
        "\n",
        "tupla_dados = (1, 2, 3, 4, 5, 6)\n",
        "\n",
        "num_lanzamientos = int(input('Ingrese el número de lanzamientos de ambos dados a la vez: '))\n",
        "\n",
        "results_lanzamientos = []\n",
        "\n",
        "suma_results = 0\n",
        "for i in range(num_lanzamientos):\n",
        "  result_dado_1 = random.choice(tupla_dados)\n",
        "  result_dado_2 = random.choice(tupla_dados)\n",
        "  suma_results = result_dado_1 + result_dado_2\n",
        "  results_lanzamientos.append((result_dado_1, result_dado_2))\n",
        "  i += i+1\n",
        "\n",
        "print('Resultados de los lanzamientos: ')\n",
        "for lanzamiento in results_lanzamientos:\n",
        "    print(lanzamiento)\n",
        "print(f'La suma de los valores de los lanzamientos es: {suma_results}')"
      ],
      "metadata": {
        "colab": {
          "base_uri": "https://localhost:8080/"
        },
        "id": "7QjyT4mEi7uH",
        "outputId": "76614eb0-21d8-4f3b-a5ce-bb9c0dcbb8be"
      },
      "execution_count": 8,
      "outputs": [
        {
          "output_type": "stream",
          "name": "stdout",
          "text": [
            "Ingrese el número de lanzamientos de ambos dados a la vez: 1\n",
            "Resultados de los lanzamientos: \n",
            "(3, 4)\n",
            "La suma de los valores de los lanzamientos es: 7\n"
          ]
        }
      ]
    },
    {
      "cell_type": "markdown",
      "source": [
        "Ejercicio 3.\n",
        "Ingrese un texto por teclado y crea un diccionario que almacene la cantidad de veces que aparece cada una de las letras o caracteres.\n",
        "\n",
        "```\n",
        "# Esto tiene formato de código\n",
        "```\n",
        "\n"
      ],
      "metadata": {
        "id": "HGTQrlYJns_I"
      }
    },
    {
      "cell_type": "code",
      "source": [
        "palabra = input('Ingrese un palabra al azar: ')\n",
        "\n",
        "contador_caracteres = {}\n",
        "\n",
        "# Iteramos sobre cada caracter en el texto\n",
        "for caracter in palabra:\n",
        "  if caracter in contador_caracteres:\n",
        "    contador_caracteres[caracter] += 1\n",
        "\n",
        "else:\n",
        "    contador_caracteres[caracter] = 1\n",
        "\n",
        "print('Cantidad de veces que aparece cada caracter:')\n",
        "for caracter, cantidad in contador_caracteres.items():\n",
        "    print(f'{caracter}: {cantidad}')"
      ],
      "metadata": {
        "colab": {
          "base_uri": "https://localhost:8080/"
        },
        "id": "pR2ty52ynmEE",
        "outputId": "abc4b05b-6bf8-46b1-bab6-b45aaadc036d"
      },
      "execution_count": 11,
      "outputs": [
        {
          "output_type": "stream",
          "name": "stdout",
          "text": [
            "Ingrese un palabra al azar: elefante\n",
            "Cantidad de veces que aparece cada caracter:\n",
            "e: 1\n"
          ]
        }
      ]
    },
    {
      "cell_type": "code",
      "source": [],
      "metadata": {
        "id": "Pap0DDqYnpYR"
      },
      "execution_count": null,
      "outputs": []
    }
  ]
}