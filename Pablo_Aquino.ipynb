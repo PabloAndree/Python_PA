{
  "nbformat": 4,
  "nbformat_minor": 0,
  "metadata": {
    "colab": {
      "provenance": [],
      "authorship_tag": "ABX9TyPLkZQFjdbWi7fIJ/FqvXp2",
      "include_colab_link": true
    },
    "kernelspec": {
      "name": "python3",
      "display_name": "Python 3"
    },
    "language_info": {
      "name": "python"
    }
  },
  "cells": [
    {
      "cell_type": "markdown",
      "metadata": {
        "id": "view-in-github",
        "colab_type": "text"
      },
      "source": [
        "<a href=\"https://colab.research.google.com/github/PabloAndree/Python_PA/blob/main/Pablo_Aquino.ipynb\" target=\"_parent\"><img src=\"https://colab.research.google.com/assets/colab-badge.svg\" alt=\"Open In Colab\"/></a>"
      ]
    },
    {
      "cell_type": "markdown",
      "source": [],
      "metadata": {
        "id": "RlF6oYLWYWZ0"
      }
    },
    {
      "cell_type": "code",
      "execution_count": null,
      "metadata": {
        "id": "JVQrl6acX67l"
      },
      "outputs": [],
      "source": [
        "\n",
        "\n"
      ]
    },
    {
      "cell_type": "markdown",
      "source": [
        "Ejercicio 1.\n",
        "\n",
        "A continuación, tienes un objeto que registra las ventas semanales de una tienda de electrodomésticos, se registra en el siguiente orden, desde la primera semana a la doceava semana. (5 puntos)\n",
        "\n",
        "Ventas_semanales = [25000, 28000, 31000, 27500, 33000, 29000,\n",
        "35000, 32000, 30000, 28500, 26000, 33500]\n",
        "\n",
        "1.1.\tIdentifica la semana con el mejor resultado de venta.\n",
        "1.2.\tIdentifica la semana con el peor resultado de venta.\n",
        "1.3.\tCalcula la venta promedio de la tienda.\n",
        "1.4.\tCalcula alguna medida de dispersión de las ventas.\n",
        "1.5.\tCrea un diccionario con la información registrada en los puntos anteriores y nómbralo como info_ventas.\n"
      ],
      "metadata": {
        "id": "p64sDQcpYZxs"
      }
    },
    {
      "cell_type": "code",
      "source": [
        "Ventas_semanales = [25000, 28000, 31000, 27500, 33000, 29000,\n",
        "35000, 32000, 30000, 28500, 26000, 33500]\n",
        "\n"
      ],
      "metadata": {
        "id": "43rIuzC3YeVY"
      },
      "execution_count": null,
      "outputs": []
    },
    {
      "cell_type": "code",
      "source": [
        "#1.1. Identifica la semana con el mejor resultado de venta.##\n",
        "\n",
        "Máximo = max(Ventas_semanales)"
      ],
      "metadata": {
        "id": "2f6nporoZ0g9"
      },
      "execution_count": null,
      "outputs": []
    },
    {
      "cell_type": "code",
      "source": [
        "#1.2. Identifica la semana con el peor resultado de venta.##\n",
        "\n",
        "Mínimo = min(Ventas_semanales)"
      ],
      "metadata": {
        "id": "xS0Px9peaFs6"
      },
      "execution_count": null,
      "outputs": []
    },
    {
      "cell_type": "code",
      "source": [
        "#1.3. Calcula la venta promedio de la tienda.##\n",
        "\n",
        "suma = sum(Ventas_semanales)\n",
        "cantidad = len(Ventas_semanales)\n",
        "promedio = suma/cantidad"
      ],
      "metadata": {
        "id": "zSPYsRLGaO8Q"
      },
      "execution_count": null,
      "outputs": []
    },
    {
      "cell_type": "code",
      "source": [
        "#1.4. Calcula alguna medida de dispersión de las ventas.##\n",
        "\n",
        "#Desviación estandar\n",
        "media = suma/cantidad\n",
        "suma_cuadrados_diferencias = sum((i - media) ** 2 for i in Ventas_semanales)\n",
        "varianza = suma_cuadrados_diferencias / cantidad\n",
        "desviacion_estandar = varianza ** 0.5"
      ],
      "metadata": {
        "id": "BWOXJSQranwk"
      },
      "execution_count": null,
      "outputs": []
    },
    {
      "cell_type": "code",
      "source": [
        "#1.5. Crea un diccionario con la información registrada en los puntos anteriores y nómbralo como info_ventas.#\n",
        "\n",
        "info_ventas = {}"
      ],
      "metadata": {
        "id": "2ydqyHWudabQ"
      },
      "execution_count": null,
      "outputs": []
    },
    {
      "cell_type": "markdown",
      "source": [],
      "metadata": {
        "id": "OinZeHzkYZtt"
      }
    }
  ]
}