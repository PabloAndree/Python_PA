{
  "nbformat": 4,
  "nbformat_minor": 0,
  "metadata": {
    "colab": {
      "provenance": [],
      "authorship_tag": "ABX9TyPswz5lrqBpVRlxAKAhj1Nb",
      "include_colab_link": true
    },
    "kernelspec": {
      "name": "python3",
      "display_name": "Python 3"
    },
    "language_info": {
      "name": "python"
    }
  },
  "cells": [
    {
      "cell_type": "markdown",
      "metadata": {
        "id": "view-in-github",
        "colab_type": "text"
      },
      "source": [
        "<a href=\"https://colab.research.google.com/github/PabloAndree/Python_PA/blob/main/Untitled5.ipynb\" target=\"_parent\"><img src=\"https://colab.research.google.com/assets/colab-badge.svg\" alt=\"Open In Colab\"/></a>"
      ]
    },
    {
      "cell_type": "markdown",
      "source": [],
      "metadata": {
        "id": "RlF6oYLWYWZ0"
      }
    },
    {
      "cell_type": "code",
      "execution_count": null,
      "metadata": {
        "id": "JVQrl6acX67l"
      },
      "outputs": [],
      "source": [
        "\n",
        "\n"
      ]
    },
    {
      "cell_type": "markdown",
      "source": [
        "Ejercicio 1.\n",
        "\n",
        "A continuación, tienes un objeto que registra las ventas semanales de una tienda de electrodomésticos, se registra en el siguiente orden, desde la primera semana a la doceava semana. (5 puntos)\n",
        "\n",
        "Ventas_semanales = [25000, 28000, 31000, 27500, 33000, 29000,\n",
        "35000, 32000, 30000, 28500, 26000, 33500]\n",
        "\n",
        "1.1.\tIdentifica la semana con el mejor resultado de venta.\n",
        "1.2.\tIdentifica la semana con el peor resultado de venta.\n",
        "1.3.\tCalcula la venta promedio de la tienda.\n",
        "1.4.\tCalcula alguna medida de dispersión de las ventas.\n",
        "1.5.\tCrea un diccionario con la información registrada en los puntos anteriores y nómbralo como info_ventas.\n"
      ],
      "metadata": {
        "id": "p64sDQcpYZxs"
      }
    },
    {
      "cell_type": "code",
      "source": [
        "Ventas_semanales = [25000, 28000, 31000, 27500, 33000, 29000, 35000, 32000, 30000, 28500, 26000, 33500]\n",
        "\n"
      ],
      "metadata": {
        "id": "43rIuzC3YeVY"
      },
      "execution_count": 8,
      "outputs": []
    },
    {
      "cell_type": "code",
      "source": [
        "Máximo = max(Ventas_semanales)"
      ],
      "metadata": {
        "id": "zXiWKDEtg01k"
      },
      "execution_count": 10,
      "outputs": []
    },
    {
      "cell_type": "code",
      "source": [
        "#1.1. Identifica la semana con el mejor resultado de venta.##\n",
        "\n",
        "mejor_resultado = max(Ventas_semanales)\n",
        "semana_mejor_resultado = Ventas_semanales.index(mejor_resultado) + 1\n",
        "print(f'La semana con el mejor resultado de ventas es: La semana {semana_mejor_resultado} y con una venta máxima de {mejor_resultado}')"
      ],
      "metadata": {
        "colab": {
          "base_uri": "https://localhost:8080/"
        },
        "id": "2f6nporoZ0g9",
        "outputId": "e8227cfd-9366-4201-8e36-4dc54ed48734"
      },
      "execution_count": 17,
      "outputs": [
        {
          "output_type": "stream",
          "name": "stdout",
          "text": [
            "La semana con el mejor resultado de ventas es: La semana 7 y con una venta máxima de 35000\n"
          ]
        }
      ]
    },
    {
      "cell_type": "code",
      "source": [
        "#1.2. Identifica la semana con el peor resultado de venta.##\n",
        "\n",
        "peor_resultado = min(Ventas_semanales)\n",
        "semana_peor_resultado = Ventas_semanales.index(peor_resultado) + 1\n",
        "print(f'La semana con el peor resultado de ventas es: La semana {semana_peor_resultado} y con una venta mínima de {peor_resultado}')"
      ],
      "metadata": {
        "colab": {
          "base_uri": "https://localhost:8080/"
        },
        "id": "xS0Px9peaFs6",
        "outputId": "57fdaa6a-ead4-4470-89b5-ee860466af5c"
      },
      "execution_count": 18,
      "outputs": [
        {
          "output_type": "stream",
          "name": "stdout",
          "text": [
            "La semana con el peor resultado de ventas es: La semana 1 y con una venta mínima de 25000\n"
          ]
        }
      ]
    },
    {
      "cell_type": "code",
      "source": [
        "#1.3. Calcula la venta promedio de la tienda.##\n",
        "\n",
        "suma = sum(Ventas_semanales)\n",
        "cantidad = len(Ventas_semanales)\n",
        "promedio = suma/cantidad\n",
        "\n",
        "print(f'La venta promedio de la tienda es: {promedio}')"
      ],
      "metadata": {
        "colab": {
          "base_uri": "https://localhost:8080/"
        },
        "id": "zSPYsRLGaO8Q",
        "outputId": "ce824208-3860-4fb4-dbe5-ca313e7ddf1f"
      },
      "execution_count": 19,
      "outputs": [
        {
          "output_type": "stream",
          "name": "stdout",
          "text": [
            "La venta promedio de la tienda es: 29875.0\n"
          ]
        }
      ]
    },
    {
      "cell_type": "code",
      "source": [
        "#1.4. Calcula alguna medida de dispersión de las ventas.##\n",
        "\n",
        "#Desviación estandar\n",
        "media = suma/cantidad\n",
        "suma_cuadrados_diferencias = sum((i - media) ** 2 for i in Ventas_semanales)\n",
        "varianza = suma_cuadrados_diferencias / cantidad\n",
        "desviacion_estandar = varianza ** 0.5\n",
        "\n",
        "print(f'La desviación estandar de las ventas es: {desviacion_estandar}')"
      ],
      "metadata": {
        "colab": {
          "base_uri": "https://localhost:8080/"
        },
        "id": "BWOXJSQranwk",
        "outputId": "6abfdc14-4454-4141-bb93-384956376944"
      },
      "execution_count": 24,
      "outputs": [
        {
          "output_type": "stream",
          "name": "stdout",
          "text": [
            "La desviación estandar de las ventas es: 2965.952629426168\n"
          ]
        }
      ]
    },
    {
      "cell_type": "code",
      "source": [
        "#1.5. Crea un diccionario con la información registrada en los puntos anteriores y nómbralo como info_ventas.#\n",
        "\n",
        "info_ventas = {'Máxima Venta': 'mejor_resultado', 'Minimo Venta': 'peor_resultado','Venta promedio':'promedio', 'Dispersión': 'desviacion_estandar'}\n",
        "info_ventas"
      ],
      "metadata": {
        "colab": {
          "base_uri": "https://localhost:8080/"
        },
        "id": "2ydqyHWudabQ",
        "outputId": "da5753b0-060a-43f3-bd77-8ed8adea7ec4"
      },
      "execution_count": 26,
      "outputs": [
        {
          "output_type": "execute_result",
          "data": {
            "text/plain": [
              "{'Máxima Venta': 'mejor_resultado',\n",
              " 'Minimo Venta': 'peor_resultado',\n",
              " 'Venta promedio': 'promedio',\n",
              " 'Dispersión': 'desviacion_estandar'}"
            ]
          },
          "metadata": {},
          "execution_count": 26
        }
      ]
    },
    {
      "cell_type": "markdown",
      "source": [],
      "metadata": {
        "id": "OinZeHzkYZtt"
      }
    }
  ]
}