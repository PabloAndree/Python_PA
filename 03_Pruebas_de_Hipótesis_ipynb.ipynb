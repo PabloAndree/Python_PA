{
  "nbformat": 4,
  "nbformat_minor": 0,
  "metadata": {
    "colab": {
      "provenance": [],
      "include_colab_link": true
    },
    "kernelspec": {
      "name": "python3",
      "display_name": "Python 3"
    },
    "language_info": {
      "name": "python"
    }
  },
  "cells": [
    {
      "cell_type": "markdown",
      "metadata": {
        "id": "view-in-github",
        "colab_type": "text"
      },
      "source": [
        "<a href=\"https://colab.research.google.com/github/PabloAndree/Python_PA/blob/main/03_Pruebas_de_Hip%C3%B3tesis_ipynb.ipynb\" target=\"_parent\"><img src=\"https://colab.research.google.com/assets/colab-badge.svg\" alt=\"Open In Colab\"/></a>"
      ]
    },
    {
      "cell_type": "markdown",
      "source": [
        "\n",
        "<img src=\"https://storage.googleapis.com/kaggle-datasets-images/1660669/2724653/194571a4f49254b35ba1c8fd6b6d6e07/dataset-cover.jpg?t=2021-10-20-14-39-34\" alt=\"HTML5 Icon\" style=\"width: 600px; height: 450px;\">\n",
        "<div style=\"text-align: center\"></div>"
      ],
      "metadata": {
        "id": "MtF14Pd3Ai79"
      }
    },
    {
      "cell_type": "markdown",
      "source": [
        "# **Laboratorio de Análisis de Pruebas A/B y Pruebas de Hipótesis**\n"
      ],
      "metadata": {
        "id": "4AZ9y62NYzhA"
      }
    },
    {
      "cell_type": "markdown",
      "source": [
        "## **Índice**\n",
        "\n",
        "1. [Introducción](#1)\n",
        "2. [Descripción del Conjunto de Datos](#2)\n",
        "3. [Análisis Exploratorio de Datos](#3)\n",
        "4. [Pruebas de Hipótesis y Aplicación](#4)\n",
        "   - 4.1. Prueba de Hipótesis para una Muestra\n",
        "   - 4.2. Prueba de Hipótesis para Dos Muestras Independientes\n",
        "   - 4.3. Prueba de Hipótesis para Proporciones\n",
        "5. [Conclusiones](#5)\n",
        "6. [Desafío: Ejercicios de Práctica](#6)\n",
        "7. [Referencias](#7)\n",
        "\n",
        "---"
      ],
      "metadata": {
        "id": "uo68F4JgY3If"
      }
    },
    {
      "cell_type": "markdown",
      "source": [
        "---\n"
      ],
      "metadata": {
        "id": "C5ZN_AjGZITk"
      }
    },
    {
      "cell_type": "markdown",
      "source": [
        "<a name=\"1\"></a>\n",
        "## **1. Introducción**\n",
        "\n",
        "El objetivo de este laboratorio es aplicar conceptos de pruebas de hipótesis en el contexto de una prueba A/B utilizando un conjunto de datos de marketing de Kaggle. En este análisis, buscamos entender si existe una diferencia significativa en la tasa de conversión entre dos grupos: aquellos expuestos a un anuncio de producto (`ad`) y aquellos que solo vieron un anuncio de servicio público (`psa`).\n"
      ],
      "metadata": {
        "id": "fSpHEoyuZN8z"
      }
    },
    {
      "cell_type": "markdown",
      "source": [
        "\n",
        "\n",
        "<a name=\"2\"></a>\n",
        "## **2. Descripción del Conjunto de Datos**\n",
        "\n",
        "El conjunto de datos proviene de [Kaggle: Marketing A/B Testing](https://www.kaggle.com/datasets/faviovaz/marketing-ab-testing). Contiene datos de una prueba A/B que evaluó la efectividad de una estrategia de marketing.\n",
        "\n",
        "**Variables principales:**\n",
        "\n",
        "- `index`: Índice de la fila.\n",
        "- `user id`: Identificador único de cada usuario.\n",
        "- `test group`: Grupo al que pertenece el usuario. (`ad` para los que vieron un anuncio de producto y `psa` para los que vieron solo un anuncio de servicio público).\n",
        "- `converted`: Indica si el usuario compró el producto (`True`) o no (`False`).\n",
        "- `total ads`: Cantidad de anuncios que vio cada persona.\n",
        "- `most ads day`: Día en que la persona vio la mayor cantidad de anuncios.\n",
        "- `most ads hour`: Hora del día en que la persona vio la mayor cantidad de anuncios.\n"
      ],
      "metadata": {
        "id": "bzEmvVuBZLxe"
      }
    },
    {
      "cell_type": "markdown",
      "source": [
        "<a name=\"3\"></a>\n",
        "## **3. Análisis Exploratorio de Datos**\n",
        "\n",
        "### **3.1. Importación de Librerías y Datos**\n"
      ],
      "metadata": {
        "id": "tJ7GIsXVZYnn"
      }
    },
    {
      "cell_type": "code",
      "execution_count": 3,
      "metadata": {
        "id": "2B8mHM2vYu6i"
      },
      "outputs": [],
      "source": [
        "import pandas as pd\n",
        "import numpy as np\n",
        "import scipy.stats as stats\n",
        "import matplotlib.pyplot as plt\n",
        "import seaborn as sns"
      ]
    },
    {
      "cell_type": "code",
      "source": [
        "# Cargar el conjunto de datos\n",
        "df = pd.read_csv('/content/marketing_AB.csv',index_col=0)"
      ],
      "metadata": {
        "id": "Mkpe01K8Zag3"
      },
      "execution_count": 4,
      "outputs": []
    },
    {
      "cell_type": "markdown",
      "source": [
        "### **3.2. Descripción de las Variables**\n"
      ],
      "metadata": {
        "id": "nKQJ5Uyyaw8K"
      }
    },
    {
      "cell_type": "markdown",
      "source": [
        "Primero, observamos las primeras filas del dataset para entender mejor la estructura de los datos:"
      ],
      "metadata": {
        "id": "d4DWA7N4Ze9z"
      }
    },
    {
      "cell_type": "code",
      "source": [
        "df.head()\n"
      ],
      "metadata": {
        "id": "V-KC7qXuZgvm",
        "colab": {
          "base_uri": "https://localhost:8080/",
          "height": 206
        },
        "outputId": "1a5c29e9-646c-4b50-d0dd-593fe8033908"
      },
      "execution_count": 5,
      "outputs": [
        {
          "output_type": "execute_result",
          "data": {
            "text/plain": [
              "   user id test group  converted  total ads most ads day  most ads hour\n",
              "0  1069124         ad      False        130       Monday             20\n",
              "1  1119715         ad      False         93      Tuesday             22\n",
              "2  1144181         ad      False         21      Tuesday             18\n",
              "3  1435133         ad      False        355      Tuesday             10\n",
              "4  1015700         ad      False        276       Friday             14"
            ],
            "text/html": [
              "\n",
              "  <div id=\"df-ecd1e837-ebc4-4034-bdb3-de6ba58c5290\" class=\"colab-df-container\">\n",
              "    <div>\n",
              "<style scoped>\n",
              "    .dataframe tbody tr th:only-of-type {\n",
              "        vertical-align: middle;\n",
              "    }\n",
              "\n",
              "    .dataframe tbody tr th {\n",
              "        vertical-align: top;\n",
              "    }\n",
              "\n",
              "    .dataframe thead th {\n",
              "        text-align: right;\n",
              "    }\n",
              "</style>\n",
              "<table border=\"1\" class=\"dataframe\">\n",
              "  <thead>\n",
              "    <tr style=\"text-align: right;\">\n",
              "      <th></th>\n",
              "      <th>user id</th>\n",
              "      <th>test group</th>\n",
              "      <th>converted</th>\n",
              "      <th>total ads</th>\n",
              "      <th>most ads day</th>\n",
              "      <th>most ads hour</th>\n",
              "    </tr>\n",
              "  </thead>\n",
              "  <tbody>\n",
              "    <tr>\n",
              "      <th>0</th>\n",
              "      <td>1069124</td>\n",
              "      <td>ad</td>\n",
              "      <td>False</td>\n",
              "      <td>130</td>\n",
              "      <td>Monday</td>\n",
              "      <td>20</td>\n",
              "    </tr>\n",
              "    <tr>\n",
              "      <th>1</th>\n",
              "      <td>1119715</td>\n",
              "      <td>ad</td>\n",
              "      <td>False</td>\n",
              "      <td>93</td>\n",
              "      <td>Tuesday</td>\n",
              "      <td>22</td>\n",
              "    </tr>\n",
              "    <tr>\n",
              "      <th>2</th>\n",
              "      <td>1144181</td>\n",
              "      <td>ad</td>\n",
              "      <td>False</td>\n",
              "      <td>21</td>\n",
              "      <td>Tuesday</td>\n",
              "      <td>18</td>\n",
              "    </tr>\n",
              "    <tr>\n",
              "      <th>3</th>\n",
              "      <td>1435133</td>\n",
              "      <td>ad</td>\n",
              "      <td>False</td>\n",
              "      <td>355</td>\n",
              "      <td>Tuesday</td>\n",
              "      <td>10</td>\n",
              "    </tr>\n",
              "    <tr>\n",
              "      <th>4</th>\n",
              "      <td>1015700</td>\n",
              "      <td>ad</td>\n",
              "      <td>False</td>\n",
              "      <td>276</td>\n",
              "      <td>Friday</td>\n",
              "      <td>14</td>\n",
              "    </tr>\n",
              "  </tbody>\n",
              "</table>\n",
              "</div>\n",
              "    <div class=\"colab-df-buttons\">\n",
              "\n",
              "  <div class=\"colab-df-container\">\n",
              "    <button class=\"colab-df-convert\" onclick=\"convertToInteractive('df-ecd1e837-ebc4-4034-bdb3-de6ba58c5290')\"\n",
              "            title=\"Convert this dataframe to an interactive table.\"\n",
              "            style=\"display:none;\">\n",
              "\n",
              "  <svg xmlns=\"http://www.w3.org/2000/svg\" height=\"24px\" viewBox=\"0 -960 960 960\">\n",
              "    <path d=\"M120-120v-720h720v720H120Zm60-500h600v-160H180v160Zm220 220h160v-160H400v160Zm0 220h160v-160H400v160ZM180-400h160v-160H180v160Zm440 0h160v-160H620v160ZM180-180h160v-160H180v160Zm440 0h160v-160H620v160Z\"/>\n",
              "  </svg>\n",
              "    </button>\n",
              "\n",
              "  <style>\n",
              "    .colab-df-container {\n",
              "      display:flex;\n",
              "      gap: 12px;\n",
              "    }\n",
              "\n",
              "    .colab-df-convert {\n",
              "      background-color: #E8F0FE;\n",
              "      border: none;\n",
              "      border-radius: 50%;\n",
              "      cursor: pointer;\n",
              "      display: none;\n",
              "      fill: #1967D2;\n",
              "      height: 32px;\n",
              "      padding: 0 0 0 0;\n",
              "      width: 32px;\n",
              "    }\n",
              "\n",
              "    .colab-df-convert:hover {\n",
              "      background-color: #E2EBFA;\n",
              "      box-shadow: 0px 1px 2px rgba(60, 64, 67, 0.3), 0px 1px 3px 1px rgba(60, 64, 67, 0.15);\n",
              "      fill: #174EA6;\n",
              "    }\n",
              "\n",
              "    .colab-df-buttons div {\n",
              "      margin-bottom: 4px;\n",
              "    }\n",
              "\n",
              "    [theme=dark] .colab-df-convert {\n",
              "      background-color: #3B4455;\n",
              "      fill: #D2E3FC;\n",
              "    }\n",
              "\n",
              "    [theme=dark] .colab-df-convert:hover {\n",
              "      background-color: #434B5C;\n",
              "      box-shadow: 0px 1px 3px 1px rgba(0, 0, 0, 0.15);\n",
              "      filter: drop-shadow(0px 1px 2px rgba(0, 0, 0, 0.3));\n",
              "      fill: #FFFFFF;\n",
              "    }\n",
              "  </style>\n",
              "\n",
              "    <script>\n",
              "      const buttonEl =\n",
              "        document.querySelector('#df-ecd1e837-ebc4-4034-bdb3-de6ba58c5290 button.colab-df-convert');\n",
              "      buttonEl.style.display =\n",
              "        google.colab.kernel.accessAllowed ? 'block' : 'none';\n",
              "\n",
              "      async function convertToInteractive(key) {\n",
              "        const element = document.querySelector('#df-ecd1e837-ebc4-4034-bdb3-de6ba58c5290');\n",
              "        const dataTable =\n",
              "          await google.colab.kernel.invokeFunction('convertToInteractive',\n",
              "                                                    [key], {});\n",
              "        if (!dataTable) return;\n",
              "\n",
              "        const docLinkHtml = 'Like what you see? Visit the ' +\n",
              "          '<a target=\"_blank\" href=https://colab.research.google.com/notebooks/data_table.ipynb>data table notebook</a>'\n",
              "          + ' to learn more about interactive tables.';\n",
              "        element.innerHTML = '';\n",
              "        dataTable['output_type'] = 'display_data';\n",
              "        await google.colab.output.renderOutput(dataTable, element);\n",
              "        const docLink = document.createElement('div');\n",
              "        docLink.innerHTML = docLinkHtml;\n",
              "        element.appendChild(docLink);\n",
              "      }\n",
              "    </script>\n",
              "  </div>\n",
              "\n",
              "\n",
              "<div id=\"df-79f65de2-e63e-4c98-86de-df9459af48d9\">\n",
              "  <button class=\"colab-df-quickchart\" onclick=\"quickchart('df-79f65de2-e63e-4c98-86de-df9459af48d9')\"\n",
              "            title=\"Suggest charts\"\n",
              "            style=\"display:none;\">\n",
              "\n",
              "<svg xmlns=\"http://www.w3.org/2000/svg\" height=\"24px\"viewBox=\"0 0 24 24\"\n",
              "     width=\"24px\">\n",
              "    <g>\n",
              "        <path d=\"M19 3H5c-1.1 0-2 .9-2 2v14c0 1.1.9 2 2 2h14c1.1 0 2-.9 2-2V5c0-1.1-.9-2-2-2zM9 17H7v-7h2v7zm4 0h-2V7h2v10zm4 0h-2v-4h2v4z\"/>\n",
              "    </g>\n",
              "</svg>\n",
              "  </button>\n",
              "\n",
              "<style>\n",
              "  .colab-df-quickchart {\n",
              "      --bg-color: #E8F0FE;\n",
              "      --fill-color: #1967D2;\n",
              "      --hover-bg-color: #E2EBFA;\n",
              "      --hover-fill-color: #174EA6;\n",
              "      --disabled-fill-color: #AAA;\n",
              "      --disabled-bg-color: #DDD;\n",
              "  }\n",
              "\n",
              "  [theme=dark] .colab-df-quickchart {\n",
              "      --bg-color: #3B4455;\n",
              "      --fill-color: #D2E3FC;\n",
              "      --hover-bg-color: #434B5C;\n",
              "      --hover-fill-color: #FFFFFF;\n",
              "      --disabled-bg-color: #3B4455;\n",
              "      --disabled-fill-color: #666;\n",
              "  }\n",
              "\n",
              "  .colab-df-quickchart {\n",
              "    background-color: var(--bg-color);\n",
              "    border: none;\n",
              "    border-radius: 50%;\n",
              "    cursor: pointer;\n",
              "    display: none;\n",
              "    fill: var(--fill-color);\n",
              "    height: 32px;\n",
              "    padding: 0;\n",
              "    width: 32px;\n",
              "  }\n",
              "\n",
              "  .colab-df-quickchart:hover {\n",
              "    background-color: var(--hover-bg-color);\n",
              "    box-shadow: 0 1px 2px rgba(60, 64, 67, 0.3), 0 1px 3px 1px rgba(60, 64, 67, 0.15);\n",
              "    fill: var(--button-hover-fill-color);\n",
              "  }\n",
              "\n",
              "  .colab-df-quickchart-complete:disabled,\n",
              "  .colab-df-quickchart-complete:disabled:hover {\n",
              "    background-color: var(--disabled-bg-color);\n",
              "    fill: var(--disabled-fill-color);\n",
              "    box-shadow: none;\n",
              "  }\n",
              "\n",
              "  .colab-df-spinner {\n",
              "    border: 2px solid var(--fill-color);\n",
              "    border-color: transparent;\n",
              "    border-bottom-color: var(--fill-color);\n",
              "    animation:\n",
              "      spin 1s steps(1) infinite;\n",
              "  }\n",
              "\n",
              "  @keyframes spin {\n",
              "    0% {\n",
              "      border-color: transparent;\n",
              "      border-bottom-color: var(--fill-color);\n",
              "      border-left-color: var(--fill-color);\n",
              "    }\n",
              "    20% {\n",
              "      border-color: transparent;\n",
              "      border-left-color: var(--fill-color);\n",
              "      border-top-color: var(--fill-color);\n",
              "    }\n",
              "    30% {\n",
              "      border-color: transparent;\n",
              "      border-left-color: var(--fill-color);\n",
              "      border-top-color: var(--fill-color);\n",
              "      border-right-color: var(--fill-color);\n",
              "    }\n",
              "    40% {\n",
              "      border-color: transparent;\n",
              "      border-right-color: var(--fill-color);\n",
              "      border-top-color: var(--fill-color);\n",
              "    }\n",
              "    60% {\n",
              "      border-color: transparent;\n",
              "      border-right-color: var(--fill-color);\n",
              "    }\n",
              "    80% {\n",
              "      border-color: transparent;\n",
              "      border-right-color: var(--fill-color);\n",
              "      border-bottom-color: var(--fill-color);\n",
              "    }\n",
              "    90% {\n",
              "      border-color: transparent;\n",
              "      border-bottom-color: var(--fill-color);\n",
              "    }\n",
              "  }\n",
              "</style>\n",
              "\n",
              "  <script>\n",
              "    async function quickchart(key) {\n",
              "      const quickchartButtonEl =\n",
              "        document.querySelector('#' + key + ' button');\n",
              "      quickchartButtonEl.disabled = true;  // To prevent multiple clicks.\n",
              "      quickchartButtonEl.classList.add('colab-df-spinner');\n",
              "      try {\n",
              "        const charts = await google.colab.kernel.invokeFunction(\n",
              "            'suggestCharts', [key], {});\n",
              "      } catch (error) {\n",
              "        console.error('Error during call to suggestCharts:', error);\n",
              "      }\n",
              "      quickchartButtonEl.classList.remove('colab-df-spinner');\n",
              "      quickchartButtonEl.classList.add('colab-df-quickchart-complete');\n",
              "    }\n",
              "    (() => {\n",
              "      let quickchartButtonEl =\n",
              "        document.querySelector('#df-79f65de2-e63e-4c98-86de-df9459af48d9 button');\n",
              "      quickchartButtonEl.style.display =\n",
              "        google.colab.kernel.accessAllowed ? 'block' : 'none';\n",
              "    })();\n",
              "  </script>\n",
              "</div>\n",
              "\n",
              "    </div>\n",
              "  </div>\n"
            ],
            "application/vnd.google.colaboratory.intrinsic+json": {
              "type": "dataframe",
              "variable_name": "df"
            }
          },
          "metadata": {},
          "execution_count": 5
        }
      ]
    },
    {
      "cell_type": "markdown",
      "source": [
        "## **3.3. Estadística Descriptivas**\n"
      ],
      "metadata": {
        "id": "E6019ypw7f5R"
      }
    },
    {
      "cell_type": "markdown",
      "source": [
        "Distribución de Usuarios por Grupo\n"
      ],
      "metadata": {
        "id": "deplCmA07mE5"
      }
    },
    {
      "cell_type": "code",
      "source": [
        "len(df)"
      ],
      "metadata": {
        "colab": {
          "base_uri": "https://localhost:8080/"
        },
        "id": "78uIZLDIdnZf",
        "outputId": "5466e531-ca70-4e2a-bce7-29f658a7c7b0"
      },
      "execution_count": null,
      "outputs": [
        {
          "output_type": "execute_result",
          "data": {
            "text/plain": [
              "588101"
            ]
          },
          "metadata": {},
          "execution_count": 9
        }
      ]
    },
    {
      "cell_type": "code",
      "source": [
        "N = 588101\n",
        "desv = 0.5\n",
        "Z = 1.96\n",
        "# Z para 95% de confianza 1.96\n",
        "error = 0.01\n",
        "n = (Z**2)*(desv**2)*(N)/((error**2)*(N-1) + (Z**2)*(desv**2))\n",
        "round(n)"
      ],
      "metadata": {
        "colab": {
          "base_uri": "https://localhost:8080/"
        },
        "id": "zt4h8RUMdXO-",
        "outputId": "e7f5806b-fbf9-43c1-e6fa-633919315961"
      },
      "execution_count": null,
      "outputs": [
        {
          "output_type": "execute_result",
          "data": {
            "text/plain": [
              "9450"
            ]
          },
          "metadata": {},
          "execution_count": 13
        }
      ]
    },
    {
      "cell_type": "code",
      "source": [
        "df['test group'].value_counts()"
      ],
      "metadata": {
        "colab": {
          "base_uri": "https://localhost:8080/",
          "height": 178
        },
        "id": "YinSbfnXcnbm",
        "outputId": "43ed2eaf-2d72-44dd-87ca-d74685d78e70"
      },
      "execution_count": null,
      "outputs": [
        {
          "output_type": "execute_result",
          "data": {
            "text/plain": [
              "test group\n",
              "ad     564577\n",
              "psa     23524\n",
              "Name: count, dtype: int64"
            ],
            "text/html": [
              "<div>\n",
              "<style scoped>\n",
              "    .dataframe tbody tr th:only-of-type {\n",
              "        vertical-align: middle;\n",
              "    }\n",
              "\n",
              "    .dataframe tbody tr th {\n",
              "        vertical-align: top;\n",
              "    }\n",
              "\n",
              "    .dataframe thead th {\n",
              "        text-align: right;\n",
              "    }\n",
              "</style>\n",
              "<table border=\"1\" class=\"dataframe\">\n",
              "  <thead>\n",
              "    <tr style=\"text-align: right;\">\n",
              "      <th></th>\n",
              "      <th>count</th>\n",
              "    </tr>\n",
              "    <tr>\n",
              "      <th>test group</th>\n",
              "      <th></th>\n",
              "    </tr>\n",
              "  </thead>\n",
              "  <tbody>\n",
              "    <tr>\n",
              "      <th>ad</th>\n",
              "      <td>564577</td>\n",
              "    </tr>\n",
              "    <tr>\n",
              "      <th>psa</th>\n",
              "      <td>23524</td>\n",
              "    </tr>\n",
              "  </tbody>\n",
              "</table>\n",
              "</div><br><label><b>dtype:</b> int64</label>"
            ]
          },
          "metadata": {},
          "execution_count": 14
        }
      ]
    },
    {
      "cell_type": "code",
      "source": [
        "# Distribución de Usuarios por Grupo\n",
        "print(\"Distribución de Usuarios por Grupo:\")\n",
        "print(df['test group'].value_counts())\n"
      ],
      "metadata": {
        "id": "tGD-LS2M7rwe",
        "colab": {
          "base_uri": "https://localhost:8080/"
        },
        "outputId": "df8d3c50-5d13-42fb-e0fe-e34745cc3c2e"
      },
      "execution_count": null,
      "outputs": [
        {
          "output_type": "stream",
          "name": "stdout",
          "text": [
            "Distribución de Usuarios por Grupo:\n",
            "test group\n",
            "ad     564577\n",
            "psa     23524\n",
            "Name: count, dtype: int64\n"
          ]
        }
      ]
    },
    {
      "cell_type": "markdown",
      "source": [
        "Tasa de Conversión por Grupo\n"
      ],
      "metadata": {
        "id": "xPMYHyG_7uV0"
      }
    },
    {
      "cell_type": "code",
      "source": [
        "# Tasa de Conversión por Grupo\n",
        "print(\"\\nTasa de Conversión por Grupo:\")\n",
        "conversion_rates = df.groupby('test group')['converted'].mean()\n",
        "print(conversion_rates)\n"
      ],
      "metadata": {
        "id": "Vr9h75wh7yWW",
        "colab": {
          "base_uri": "https://localhost:8080/"
        },
        "outputId": "2254b4d4-6dd3-4d0f-c117-bf18cfe7c156"
      },
      "execution_count": null,
      "outputs": [
        {
          "output_type": "stream",
          "name": "stdout",
          "text": [
            "\n",
            "Tasa de Conversión por Grupo:\n",
            "test group\n",
            "ad     0.025547\n",
            "psa    0.017854\n",
            "Name: converted, dtype: float64\n"
          ]
        }
      ]
    },
    {
      "cell_type": "markdown",
      "source": [
        "Análisis de Anuncios Totales y Hora de Máxima Exposición\n"
      ],
      "metadata": {
        "id": "amsYTTUd9EVB"
      }
    },
    {
      "cell_type": "code",
      "source": [
        "# Análisis de Anuncios Totales y Hora de Máxima Exposición por Grupo\n",
        "print(\"\\nAnálisis de Anuncios Totales y Hora de Máxima Exposición por Grupo:\")\n",
        "ads_stats = df.groupby('test group')[['total ads', 'most ads hour']].mean()\n",
        "print(ads_stats)\n"
      ],
      "metadata": {
        "id": "a5Ipz6719F0G",
        "colab": {
          "base_uri": "https://localhost:8080/"
        },
        "outputId": "77ddb0b0-7931-46be-9218-7465a86c0cd4"
      },
      "execution_count": null,
      "outputs": [
        {
          "output_type": "stream",
          "name": "stdout",
          "text": [
            "\n",
            "Análisis de Anuncios Totales y Hora de Máxima Exposición por Grupo:\n",
            "            total ads  most ads hour\n",
            "test group                          \n",
            "ad          24.823365      14.475900\n",
            "psa         24.761138      14.304923\n"
          ]
        }
      ]
    },
    {
      "cell_type": "markdown",
      "source": [
        "Este análisis nos permite observar las tasas de conversión en cada grupo y explorar las variables total ads y most ads hour para ver si existen diferencias iniciales en la interacción de los usuarios entre los dos grupos."
      ],
      "metadata": {
        "id": "fAudj9gY9J-n"
      }
    },
    {
      "cell_type": "markdown",
      "source": [
        "<a name=\"4\"></a>\n",
        "## **4. Pruebas de Hipótesis y Aplicación**\n",
        "\n",
        "A continuación, se describen y aplican las pruebas de hipótesis para evaluar diferencias en la tasa de conversión entre el grupo ad y el grupo psa.\n",
        "\n",
        "Aplicaremos pruebas de hipótesis para determinar si las diferencias observadas son estadísticamente significativas.\n"
      ],
      "metadata": {
        "id": "7lTR4wlB9MIW"
      }
    },
    {
      "cell_type": "markdown",
      "source": [
        "###**4.1. Prueba de Hipótesis para una Muestra**"
      ],
      "metadata": {
        "id": "X_UQz25f9tuZ"
      }
    },
    {
      "cell_type": "markdown",
      "source": [
        "**Pregunta:** ¿La media de anuncios vistos por usuario promedio en el grupo `psa` es igual al 22?\n",
        "\n",
        "**Hipótesis:**\n",
        "\n",
        "- **\\(H_0\\):** La media de anuncios vistos por usuario `psa` es igual al 22% (\\( $\\mu$\n",
        " = 22 \\)).\n",
        "- **\\(H_a\\):** La media de anuncios vistos por usuario `psa` es diferente al 22% (\\( $\\mu$\n",
        "$\\neq$22\\)).\n"
      ],
      "metadata": {
        "id": "QJKGyD969yb0"
      }
    },
    {
      "cell_type": "markdown",
      "source": [
        "**Aplicación de la Prueba t para una Muestra (Grupo psa)**\n"
      ],
      "metadata": {
        "id": "NDyYXlq4_isb"
      }
    },
    {
      "cell_type": "code",
      "source": [
        "# Filtrar el grupo `psa`\n",
        "psa_group = df[df['test group'] == 'psa']\n",
        "\n",
        "# Datos del grupo `psa`\n",
        "n_psa = len(psa_group)\n",
        "mean_psa = psa_group['total ads'].mean()\n",
        "std_psa = psa_group['total ads'].std(ddof=1)\n",
        "\n",
        "print(f'Tamaño del grupo `psa`: {n_psa}')\n",
        "print(f'Media del grupo `psa`: {mean_psa:.2f}')\n",
        "print(f'Desviación estándar del grupo `psa`: {std_psa:.2f}')\n"
      ],
      "metadata": {
        "colab": {
          "base_uri": "https://localhost:8080/"
        },
        "id": "z6aiJfyWhp3y",
        "outputId": "9d122bce-8eb9-4d4b-87fc-5f4e0c622c1c"
      },
      "execution_count": null,
      "outputs": [
        {
          "output_type": "stream",
          "name": "stdout",
          "text": [
            "Tamaño del grupo `psa`: 23524\n",
            "Media del grupo `psa`: 24.76\n",
            "Desviación estándar del grupo `psa`: 42.86\n"
          ]
        }
      ]
    },
    {
      "cell_type": "code",
      "source": [
        "from statsmodels.stats.weightstats import ztest\n",
        "alpha = 0.05\n",
        "#Z-test de una muestra\n",
        "z_statistisc, p_value = ztest(psa_group['total ads'], value=22, alternative='two-sided')\n",
        "\n",
        "if p_value < alpha:\n",
        "  print('Se rechaza la hipotesis nula')\n",
        "else:\n",
        "  print('No se rechaza la hipotesis nula')"
      ],
      "metadata": {
        "colab": {
          "base_uri": "https://localhost:8080/"
        },
        "id": "lIJsaCnSjG-f",
        "outputId": "3a472182-8101-4499-b922-4ad7691b308d"
      },
      "execution_count": null,
      "outputs": [
        {
          "output_type": "stream",
          "name": "stdout",
          "text": [
            "Se rechaza la hipotesis nula\n"
          ]
        }
      ]
    },
    {
      "cell_type": "code",
      "source": [
        "from statsmodels.stats.weightstats import ztest\n",
        "alpha = 0.05\n",
        "#Z-test de una muestra\n",
        "z_statistisc, p_value = ztest(psa_group['total ads'], value=22, alternative='larger')\n",
        "\n",
        "if p_value < alpha:\n",
        "  print('Se rechaza la hipotesis nula')\n",
        "else:\n",
        "  print('No se rechaza la hipotesis nula')"
      ],
      "metadata": {
        "colab": {
          "base_uri": "https://localhost:8080/"
        },
        "id": "f30dsXCPk6yC",
        "outputId": "512b5feb-100d-421b-94c1-94a3d72b45b9"
      },
      "execution_count": null,
      "outputs": [
        {
          "output_type": "stream",
          "name": "stdout",
          "text": [
            "Se rechaza la hipotesis nula\n"
          ]
        }
      ]
    },
    {
      "cell_type": "code",
      "source": [
        "# Parámetros de la hipótesis\n",
        "mu_0 = 0.05  # Tasa de conversión esperada\n",
        "alpha = 0.05\n",
        "\n",
        "# Estadístico t\n",
        "t_stat = (mean_psa - mu_0) / (std_psa / np.sqrt(n_psa))\n",
        "\n",
        "# Grados de libertad y p-valor\n",
        "df_psa = n_psa - 1\n",
        "p_value = stats.t.sf(np.abs(t_stat), df=df_psa) * 2  # Prueba bilateral\n",
        "\n",
        "print(f\"\\nPrueba de Hipótesis para una Muestra (Grupo `psa`):\")\n",
        "print(f\"Estadístico t: {t_stat:.4f}\")\n",
        "print(f\"p-valor: {p_value:.4f}\")\n"
      ],
      "metadata": {
        "id": "fjQJ82Xr_i5Y",
        "colab": {
          "base_uri": "https://localhost:8080/"
        },
        "outputId": "505333aa-532d-42f0-d6d5-b22d8ef8124d"
      },
      "execution_count": null,
      "outputs": [
        {
          "output_type": "stream",
          "name": "stdout",
          "text": [
            "\n",
            "Prueba de Hipótesis para una Muestra (Grupo `psa`):\n",
            "Estadístico t: 88.4278\n",
            "p-valor: 0.0000\n"
          ]
        }
      ]
    },
    {
      "cell_type": "markdown",
      "source": [
        "Interpretación: Si el p-valor es menor que 0.05, rechazamos 𝐻0​\n",
        " , lo que indicaría una diferencia significativa entre la tasa de conversión del grupo psa y la tasa histórica del 5%."
      ],
      "metadata": {
        "id": "NnM330PF_pti"
      }
    },
    {
      "cell_type": "markdown",
      "source": [
        "### **4.2. Prueba de Hipótesis para Dos Muestras Independientes**\n"
      ],
      "metadata": {
        "id": "IkNNkvyV-jFI"
      }
    },
    {
      "cell_type": "markdown",
      "source": [
        "**Pregunta:** ¿Existe una diferencia significativa en la tasa de conversión entre los grupos `ad` y `psa`?\n",
        "\n",
        "**Hipótesis:**\n",
        "\n",
        "- **\\( H_0 \\):** Las tasas de conversión son iguales en ambos grupos $(\\mu_{\\text{ad}} = \\mu_{\\text{psa}}).$\n",
        "- **\\( H_a \\):** Las tasas de conversión son diferentes $(\\mu_{\\text{ad}} \\neq \\mu_{\\text{psa}}).$\n"
      ],
      "metadata": {
        "id": "J_DFMLg0-shk"
      }
    },
    {
      "cell_type": "markdown",
      "source": [
        "**Aplicación de la Prueba t para Dos Muestras Independientes**\n"
      ],
      "metadata": {
        "id": "7qMpGVB4_vCj"
      }
    },
    {
      "cell_type": "code",
      "source": [
        "# Filtrar el grupo `ad`\n",
        "ad_group = df[df['test group'] == 'ad']"
      ],
      "metadata": {
        "id": "KY0X4K6GmFv3"
      },
      "execution_count": null,
      "outputs": []
    },
    {
      "cell_type": "code",
      "source": [
        "# Datos del grupo `ad`\n",
        "n_ad = len(ad_group)\n",
        "mean_ad = ad_group['converted'].mean()\n",
        "std_ad = ad_group['converted'].std(ddof=1)"
      ],
      "metadata": {
        "id": "7v2bC4W3mIYm"
      },
      "execution_count": null,
      "outputs": []
    },
    {
      "cell_type": "code",
      "source": [
        "# Filtrar el grupo `ps`\n",
        "psa_group = df[df['test group'] == 'psa']"
      ],
      "metadata": {
        "id": "CO9EX_ehmUDw"
      },
      "execution_count": null,
      "outputs": []
    },
    {
      "cell_type": "code",
      "source": [
        "t_stat_ind, p_value_ind = stats.ttest_ind(psa_group['converted'], ad_group['converted'], equal_var=False)"
      ],
      "metadata": {
        "id": "R6IYPOdJnjRw"
      },
      "execution_count": null,
      "outputs": []
    },
    {
      "cell_type": "code",
      "source": [
        "p_value_ind"
      ],
      "metadata": {
        "colab": {
          "base_uri": "https://localhost:8080/"
        },
        "id": "W4NfNPYpntHg",
        "outputId": "b2df938f-270c-46aa-a5a4-18135e7a338a"
      },
      "execution_count": null,
      "outputs": [
        {
          "output_type": "execute_result",
          "data": {
            "text/plain": [
              "5.107607598758945e-18"
            ]
          },
          "metadata": {},
          "execution_count": 30
        }
      ]
    },
    {
      "cell_type": "code",
      "source": [
        "alpha = 0.001\n",
        "\n",
        "if p_value_ind < alpha:\n",
        "  print('Se rechaza la hipotesis nula')\n",
        "else:\n",
        "  print('No se rechaza la hipotesis nula')"
      ],
      "metadata": {
        "colab": {
          "base_uri": "https://localhost:8080/"
        },
        "id": "K4vzZdS9oVYB",
        "outputId": "42f39877-61fc-4f4c-d5da-bbaaa63c917a"
      },
      "execution_count": null,
      "outputs": [
        {
          "output_type": "stream",
          "name": "stdout",
          "text": [
            "Se rechaza la hipotesis nula\n"
          ]
        }
      ]
    },
    {
      "cell_type": "code",
      "source": [
        "# Prueba t para muestras independientes (Welch's t-test si las varianzas no son iguales)\n",
        "t_stat_ind, p_value_ind = stats.ttest_ind(\n",
        "    psa_group['converted'],\n",
        "    ad_group['converted'],\n",
        "    equal_var=False  # Welch's t-test\n",
        ")\n",
        "\n",
        "print(f\"\\nPrueba de Hipótesis para Dos Muestras (Grupo `ad` vs Grupo `psa`):\")\n",
        "print(f\"Estadístico t: {t_stat_ind:.2f}\")\n",
        "print(f\"p-valor: {p_value_ind:.2f}\")\n"
      ],
      "metadata": {
        "id": "CMx8gNshABYR",
        "colab": {
          "base_uri": "https://localhost:8080/"
        },
        "outputId": "3a0e9acc-0ead-4a16-b14a-b0f071e757df"
      },
      "execution_count": null,
      "outputs": [
        {
          "output_type": "stream",
          "name": "stdout",
          "text": [
            "\n",
            "Prueba de Hipótesis para Dos Muestras (Grupo `ad` vs Grupo `psa`):\n",
            "Estadístico t: -8.66\n",
            "p-valor: 0.00\n"
          ]
        }
      ]
    },
    {
      "cell_type": "markdown",
      "source": [
        "Interpretación: Si el p-valor es menor que 0.05, rechazamos 𝐻0, lo que sugiere una diferencia significativa en la tasa de conversión entre los dos grupos."
      ],
      "metadata": {
        "id": "auG4G3nkADSo"
      }
    },
    {
      "cell_type": "markdown",
      "source": [
        "### **4.3. Prueba de Hipótesis para Proporciones**\n"
      ],
      "metadata": {
        "id": "4Ve3WHSU_GhX"
      }
    },
    {
      "cell_type": "markdown",
      "source": [
        "**Pregunta:** ¿Existe una diferencia significativa en la proporción de usuarios que convirtieron entre el grupo ad y el grupo psa?\n",
        "\n",
        "\n",
        "**Hipótesis:**\n",
        "\n",
        "- **\\( H_0 \\):** Las proporciones de conversión son iguales $(p_{\\text{ad}} = p_{\\text{psa}}).$\n",
        "- **\\( H_a \\):** Las proporciones de conversión son diferentes $(p_{\\text{ad}} \\neq p_{\\text{psa}}).$\n"
      ],
      "metadata": {
        "id": "lTLShoG5_JmF"
      }
    },
    {
      "cell_type": "markdown",
      "source": [
        "**Aplicación de la Prueba Z para Proporciones**\n"
      ],
      "metadata": {
        "id": "yClwnLEoAF2s"
      }
    },
    {
      "cell_type": "code",
      "source": [
        "# Contadores de conversiones\n",
        "success_psa = psa_group['converted'].sum()\n",
        "success_ad = ad_group['converted'].sum()\n",
        "\n",
        "# Tamaños de las muestras\n",
        "p_psa = success_psa / n_psa\n",
        "p_ad = success_ad / n_ad\n",
        "p_pool = (success_psa + success_ad) / (n_psa + n_ad)\n",
        "\n",
        "# Estadístico Z para proporciones\n",
        "Z_stat = (p_psa - p_ad) / np.sqrt(p_pool * (1 - p_pool) * (1/n_psa + 1/n_ad))\n",
        "p_value_prop = stats.norm.sf(np.abs(Z_stat)) * 2  # Prueba bilateral\n",
        "\n",
        "print(f\"\\nPrueba de Hipótesis para Proporciones (Conversión Grupo `ad` vs Grupo `psa`):\")\n",
        "print(f\"Estadístico Z: {Z_stat:.4f}\")\n",
        "print(f\"p-valor: {p_value_prop:.4f}\")\n"
      ],
      "metadata": {
        "id": "Du0BIso3_xra",
        "outputId": "6247a736-73ae-4502-a608-a042d7449f5b",
        "colab": {
          "base_uri": "https://localhost:8080/"
        }
      },
      "execution_count": null,
      "outputs": [
        {
          "output_type": "stream",
          "name": "stdout",
          "text": [
            "\n",
            "Prueba de Hipótesis para Proporciones (Conversión Grupo `ad` vs Grupo `psa`):\n",
            "Estadístico Z: -7.3701\n",
            "p-valor: 0.0000\n"
          ]
        }
      ]
    },
    {
      "cell_type": "markdown",
      "source": [
        "Interpretación: Si el p-valor es menor que 0.05, rechazamos 𝐻0, indicando una diferencia significativa en las proporciones de conversión entre ambos grupos."
      ],
      "metadata": {
        "id": "-BD8otg2_0eA"
      }
    },
    {
      "cell_type": "code",
      "source": [
        "np.corrcoef(ad_group['most ads hour'], ad_group['total ads'])"
      ],
      "metadata": {
        "colab": {
          "base_uri": "https://localhost:8080/"
        },
        "id": "70MEgLkMsS3P",
        "outputId": "1b3469f1-ab98-44d3-c184-8c0c40cedb86"
      },
      "execution_count": null,
      "outputs": [
        {
          "output_type": "execute_result",
          "data": {
            "text/plain": [
              "array([[ 1.        , -0.01090014],\n",
              "       [-0.01090014,  1.        ]])"
            ]
          },
          "metadata": {},
          "execution_count": 35
        }
      ]
    },
    {
      "cell_type": "markdown",
      "source": [
        "---\n",
        "\n",
        "<a name=\"5\"></a>\n",
        "## **5. Conclusiones**\n",
        "\n",
        "A partir de los resultados de las pruebas de hipótesis, determinaremos si las diferencias observadas en las tasas de conversión son estadísticamente significativas y si la exposición al anuncio de producto (`ad`) tiene un impacto en comparación con el anuncio de servicio público (`psa`).\n",
        "\n",
        "---"
      ],
      "metadata": {
        "id": "-tbobyP9_NIq"
      }
    },
    {
      "cell_type": "markdown",
      "source": [
        "<a name=\"6\"></a>\n",
        "## **6. Desafío: Ejercicios de Práctica**\n",
        "\n",
        "Para afianzar lo aprendido, se proponen los siguientes ejercicios:\n",
        "\n",
        "1. **Prueba de Hipótesis para una Muestra:**\n",
        "   - Utiliza el grupo `ad` para verificar si su tasa de conversión es mayor al 7%.\n",
        "\n",
        "2. **Prueba de Hipótesis para Dos Muestras (Total de Anuncios Vistos):**\n",
        "   - Compara el número promedio de anuncios vistos entre los grupos `ad` y `psa`. ¿Es la diferencia significativa?\n",
        "\n",
        "3. **Prueba de Hipótesis para Proporciones (Conversión en Horas Pico):**\n",
        "   - Analiza si la proporción de conversiones durante la hora de mayor exposición es diferente entre los grupos.\n",
        "\n",
        "4. **Visualización de Datos:**\n",
        "   - Crea gráficos que representen las tasas de conversión y otras variables clave para visualizar las diferencias.\n",
        "\n",
        "---"
      ],
      "metadata": {
        "id": "CeG3Qxpz_RTs"
      }
    },
    {
      "cell_type": "markdown",
      "source": [
        "1. Prueba de Hipótesis para una Muestra:\n",
        "\n",
        "Utiliza el grupo ad para verificar si su tasa de conversión es mayor al 7%.\n",
        "\n",
        "Hipótesis:\n",
        "\n",
        "(H_0): La tasa de conversión del grupo \"ad\" es mayor al 7%.\n",
        "\n",
        "(H_a): La tasa de conversión del grupo \"ad\" es menor al 7%."
      ],
      "metadata": {
        "id": "LiqYJBVQEnu3"
      }
    },
    {
      "cell_type": "code",
      "source": [
        "df.head()"
      ],
      "metadata": {
        "id": "bNCM_0B4HGRj",
        "outputId": "f691f981-3ad6-40d1-eea5-013a7b6eae1d",
        "colab": {
          "base_uri": "https://localhost:8080/",
          "height": 206
        }
      },
      "execution_count": null,
      "outputs": [
        {
          "output_type": "execute_result",
          "data": {
            "text/plain": [
              "   user id test group  converted  total ads most ads day  most ads hour\n",
              "0  1069124         ad      False        130       Monday             20\n",
              "1  1119715         ad      False         93      Tuesday             22\n",
              "2  1144181         ad      False         21      Tuesday             18\n",
              "3  1435133         ad      False        355      Tuesday             10\n",
              "4  1015700         ad      False        276       Friday             14"
            ],
            "text/html": [
              "\n",
              "  <div id=\"df-e5d9fd52-c21d-49aa-9667-ee4d9e15401a\" class=\"colab-df-container\">\n",
              "    <div>\n",
              "<style scoped>\n",
              "    .dataframe tbody tr th:only-of-type {\n",
              "        vertical-align: middle;\n",
              "    }\n",
              "\n",
              "    .dataframe tbody tr th {\n",
              "        vertical-align: top;\n",
              "    }\n",
              "\n",
              "    .dataframe thead th {\n",
              "        text-align: right;\n",
              "    }\n",
              "</style>\n",
              "<table border=\"1\" class=\"dataframe\">\n",
              "  <thead>\n",
              "    <tr style=\"text-align: right;\">\n",
              "      <th></th>\n",
              "      <th>user id</th>\n",
              "      <th>test group</th>\n",
              "      <th>converted</th>\n",
              "      <th>total ads</th>\n",
              "      <th>most ads day</th>\n",
              "      <th>most ads hour</th>\n",
              "    </tr>\n",
              "  </thead>\n",
              "  <tbody>\n",
              "    <tr>\n",
              "      <th>0</th>\n",
              "      <td>1069124</td>\n",
              "      <td>ad</td>\n",
              "      <td>False</td>\n",
              "      <td>130</td>\n",
              "      <td>Monday</td>\n",
              "      <td>20</td>\n",
              "    </tr>\n",
              "    <tr>\n",
              "      <th>1</th>\n",
              "      <td>1119715</td>\n",
              "      <td>ad</td>\n",
              "      <td>False</td>\n",
              "      <td>93</td>\n",
              "      <td>Tuesday</td>\n",
              "      <td>22</td>\n",
              "    </tr>\n",
              "    <tr>\n",
              "      <th>2</th>\n",
              "      <td>1144181</td>\n",
              "      <td>ad</td>\n",
              "      <td>False</td>\n",
              "      <td>21</td>\n",
              "      <td>Tuesday</td>\n",
              "      <td>18</td>\n",
              "    </tr>\n",
              "    <tr>\n",
              "      <th>3</th>\n",
              "      <td>1435133</td>\n",
              "      <td>ad</td>\n",
              "      <td>False</td>\n",
              "      <td>355</td>\n",
              "      <td>Tuesday</td>\n",
              "      <td>10</td>\n",
              "    </tr>\n",
              "    <tr>\n",
              "      <th>4</th>\n",
              "      <td>1015700</td>\n",
              "      <td>ad</td>\n",
              "      <td>False</td>\n",
              "      <td>276</td>\n",
              "      <td>Friday</td>\n",
              "      <td>14</td>\n",
              "    </tr>\n",
              "  </tbody>\n",
              "</table>\n",
              "</div>\n",
              "    <div class=\"colab-df-buttons\">\n",
              "\n",
              "  <div class=\"colab-df-container\">\n",
              "    <button class=\"colab-df-convert\" onclick=\"convertToInteractive('df-e5d9fd52-c21d-49aa-9667-ee4d9e15401a')\"\n",
              "            title=\"Convert this dataframe to an interactive table.\"\n",
              "            style=\"display:none;\">\n",
              "\n",
              "  <svg xmlns=\"http://www.w3.org/2000/svg\" height=\"24px\" viewBox=\"0 -960 960 960\">\n",
              "    <path d=\"M120-120v-720h720v720H120Zm60-500h600v-160H180v160Zm220 220h160v-160H400v160Zm0 220h160v-160H400v160ZM180-400h160v-160H180v160Zm440 0h160v-160H620v160ZM180-180h160v-160H180v160Zm440 0h160v-160H620v160Z\"/>\n",
              "  </svg>\n",
              "    </button>\n",
              "\n",
              "  <style>\n",
              "    .colab-df-container {\n",
              "      display:flex;\n",
              "      gap: 12px;\n",
              "    }\n",
              "\n",
              "    .colab-df-convert {\n",
              "      background-color: #E8F0FE;\n",
              "      border: none;\n",
              "      border-radius: 50%;\n",
              "      cursor: pointer;\n",
              "      display: none;\n",
              "      fill: #1967D2;\n",
              "      height: 32px;\n",
              "      padding: 0 0 0 0;\n",
              "      width: 32px;\n",
              "    }\n",
              "\n",
              "    .colab-df-convert:hover {\n",
              "      background-color: #E2EBFA;\n",
              "      box-shadow: 0px 1px 2px rgba(60, 64, 67, 0.3), 0px 1px 3px 1px rgba(60, 64, 67, 0.15);\n",
              "      fill: #174EA6;\n",
              "    }\n",
              "\n",
              "    .colab-df-buttons div {\n",
              "      margin-bottom: 4px;\n",
              "    }\n",
              "\n",
              "    [theme=dark] .colab-df-convert {\n",
              "      background-color: #3B4455;\n",
              "      fill: #D2E3FC;\n",
              "    }\n",
              "\n",
              "    [theme=dark] .colab-df-convert:hover {\n",
              "      background-color: #434B5C;\n",
              "      box-shadow: 0px 1px 3px 1px rgba(0, 0, 0, 0.15);\n",
              "      filter: drop-shadow(0px 1px 2px rgba(0, 0, 0, 0.3));\n",
              "      fill: #FFFFFF;\n",
              "    }\n",
              "  </style>\n",
              "\n",
              "    <script>\n",
              "      const buttonEl =\n",
              "        document.querySelector('#df-e5d9fd52-c21d-49aa-9667-ee4d9e15401a button.colab-df-convert');\n",
              "      buttonEl.style.display =\n",
              "        google.colab.kernel.accessAllowed ? 'block' : 'none';\n",
              "\n",
              "      async function convertToInteractive(key) {\n",
              "        const element = document.querySelector('#df-e5d9fd52-c21d-49aa-9667-ee4d9e15401a');\n",
              "        const dataTable =\n",
              "          await google.colab.kernel.invokeFunction('convertToInteractive',\n",
              "                                                    [key], {});\n",
              "        if (!dataTable) return;\n",
              "\n",
              "        const docLinkHtml = 'Like what you see? Visit the ' +\n",
              "          '<a target=\"_blank\" href=https://colab.research.google.com/notebooks/data_table.ipynb>data table notebook</a>'\n",
              "          + ' to learn more about interactive tables.';\n",
              "        element.innerHTML = '';\n",
              "        dataTable['output_type'] = 'display_data';\n",
              "        await google.colab.output.renderOutput(dataTable, element);\n",
              "        const docLink = document.createElement('div');\n",
              "        docLink.innerHTML = docLinkHtml;\n",
              "        element.appendChild(docLink);\n",
              "      }\n",
              "    </script>\n",
              "  </div>\n",
              "\n",
              "\n",
              "<div id=\"df-065f3e9d-24ef-4cf0-bf9b-1cbfaecd265c\">\n",
              "  <button class=\"colab-df-quickchart\" onclick=\"quickchart('df-065f3e9d-24ef-4cf0-bf9b-1cbfaecd265c')\"\n",
              "            title=\"Suggest charts\"\n",
              "            style=\"display:none;\">\n",
              "\n",
              "<svg xmlns=\"http://www.w3.org/2000/svg\" height=\"24px\"viewBox=\"0 0 24 24\"\n",
              "     width=\"24px\">\n",
              "    <g>\n",
              "        <path d=\"M19 3H5c-1.1 0-2 .9-2 2v14c0 1.1.9 2 2 2h14c1.1 0 2-.9 2-2V5c0-1.1-.9-2-2-2zM9 17H7v-7h2v7zm4 0h-2V7h2v10zm4 0h-2v-4h2v4z\"/>\n",
              "    </g>\n",
              "</svg>\n",
              "  </button>\n",
              "\n",
              "<style>\n",
              "  .colab-df-quickchart {\n",
              "      --bg-color: #E8F0FE;\n",
              "      --fill-color: #1967D2;\n",
              "      --hover-bg-color: #E2EBFA;\n",
              "      --hover-fill-color: #174EA6;\n",
              "      --disabled-fill-color: #AAA;\n",
              "      --disabled-bg-color: #DDD;\n",
              "  }\n",
              "\n",
              "  [theme=dark] .colab-df-quickchart {\n",
              "      --bg-color: #3B4455;\n",
              "      --fill-color: #D2E3FC;\n",
              "      --hover-bg-color: #434B5C;\n",
              "      --hover-fill-color: #FFFFFF;\n",
              "      --disabled-bg-color: #3B4455;\n",
              "      --disabled-fill-color: #666;\n",
              "  }\n",
              "\n",
              "  .colab-df-quickchart {\n",
              "    background-color: var(--bg-color);\n",
              "    border: none;\n",
              "    border-radius: 50%;\n",
              "    cursor: pointer;\n",
              "    display: none;\n",
              "    fill: var(--fill-color);\n",
              "    height: 32px;\n",
              "    padding: 0;\n",
              "    width: 32px;\n",
              "  }\n",
              "\n",
              "  .colab-df-quickchart:hover {\n",
              "    background-color: var(--hover-bg-color);\n",
              "    box-shadow: 0 1px 2px rgba(60, 64, 67, 0.3), 0 1px 3px 1px rgba(60, 64, 67, 0.15);\n",
              "    fill: var(--button-hover-fill-color);\n",
              "  }\n",
              "\n",
              "  .colab-df-quickchart-complete:disabled,\n",
              "  .colab-df-quickchart-complete:disabled:hover {\n",
              "    background-color: var(--disabled-bg-color);\n",
              "    fill: var(--disabled-fill-color);\n",
              "    box-shadow: none;\n",
              "  }\n",
              "\n",
              "  .colab-df-spinner {\n",
              "    border: 2px solid var(--fill-color);\n",
              "    border-color: transparent;\n",
              "    border-bottom-color: var(--fill-color);\n",
              "    animation:\n",
              "      spin 1s steps(1) infinite;\n",
              "  }\n",
              "\n",
              "  @keyframes spin {\n",
              "    0% {\n",
              "      border-color: transparent;\n",
              "      border-bottom-color: var(--fill-color);\n",
              "      border-left-color: var(--fill-color);\n",
              "    }\n",
              "    20% {\n",
              "      border-color: transparent;\n",
              "      border-left-color: var(--fill-color);\n",
              "      border-top-color: var(--fill-color);\n",
              "    }\n",
              "    30% {\n",
              "      border-color: transparent;\n",
              "      border-left-color: var(--fill-color);\n",
              "      border-top-color: var(--fill-color);\n",
              "      border-right-color: var(--fill-color);\n",
              "    }\n",
              "    40% {\n",
              "      border-color: transparent;\n",
              "      border-right-color: var(--fill-color);\n",
              "      border-top-color: var(--fill-color);\n",
              "    }\n",
              "    60% {\n",
              "      border-color: transparent;\n",
              "      border-right-color: var(--fill-color);\n",
              "    }\n",
              "    80% {\n",
              "      border-color: transparent;\n",
              "      border-right-color: var(--fill-color);\n",
              "      border-bottom-color: var(--fill-color);\n",
              "    }\n",
              "    90% {\n",
              "      border-color: transparent;\n",
              "      border-bottom-color: var(--fill-color);\n",
              "    }\n",
              "  }\n",
              "</style>\n",
              "\n",
              "  <script>\n",
              "    async function quickchart(key) {\n",
              "      const quickchartButtonEl =\n",
              "        document.querySelector('#' + key + ' button');\n",
              "      quickchartButtonEl.disabled = true;  // To prevent multiple clicks.\n",
              "      quickchartButtonEl.classList.add('colab-df-spinner');\n",
              "      try {\n",
              "        const charts = await google.colab.kernel.invokeFunction(\n",
              "            'suggestCharts', [key], {});\n",
              "      } catch (error) {\n",
              "        console.error('Error during call to suggestCharts:', error);\n",
              "      }\n",
              "      quickchartButtonEl.classList.remove('colab-df-spinner');\n",
              "      quickchartButtonEl.classList.add('colab-df-quickchart-complete');\n",
              "    }\n",
              "    (() => {\n",
              "      let quickchartButtonEl =\n",
              "        document.querySelector('#df-065f3e9d-24ef-4cf0-bf9b-1cbfaecd265c button');\n",
              "      quickchartButtonEl.style.display =\n",
              "        google.colab.kernel.accessAllowed ? 'block' : 'none';\n",
              "    })();\n",
              "  </script>\n",
              "</div>\n",
              "\n",
              "    </div>\n",
              "  </div>\n"
            ],
            "application/vnd.google.colaboratory.intrinsic+json": {
              "type": "dataframe",
              "variable_name": "df"
            }
          },
          "metadata": {},
          "execution_count": 6
        }
      ]
    },
    {
      "cell_type": "code",
      "source": [
        "df.describe()"
      ],
      "metadata": {
        "id": "Cei3soBJY0Hn",
        "outputId": "3087cf7c-0872-4060-a74a-806215c08176",
        "colab": {
          "base_uri": "https://localhost:8080/",
          "height": 300
        }
      },
      "execution_count": 26,
      "outputs": [
        {
          "output_type": "execute_result",
          "data": {
            "text/plain": [
              "            user id      total ads  most ads hour\n",
              "count  5.881010e+05  588101.000000  588101.000000\n",
              "mean   1.310692e+06      24.820876      14.469061\n",
              "std    2.022260e+05      43.715181       4.834634\n",
              "min    9.000000e+05       1.000000       0.000000\n",
              "25%    1.143190e+06       4.000000      11.000000\n",
              "50%    1.313725e+06      13.000000      14.000000\n",
              "75%    1.484088e+06      27.000000      18.000000\n",
              "max    1.654483e+06    2065.000000      23.000000"
            ],
            "text/html": [
              "\n",
              "  <div id=\"df-27cf9ba4-333e-432d-bb8a-7877056d4a07\" class=\"colab-df-container\">\n",
              "    <div>\n",
              "<style scoped>\n",
              "    .dataframe tbody tr th:only-of-type {\n",
              "        vertical-align: middle;\n",
              "    }\n",
              "\n",
              "    .dataframe tbody tr th {\n",
              "        vertical-align: top;\n",
              "    }\n",
              "\n",
              "    .dataframe thead th {\n",
              "        text-align: right;\n",
              "    }\n",
              "</style>\n",
              "<table border=\"1\" class=\"dataframe\">\n",
              "  <thead>\n",
              "    <tr style=\"text-align: right;\">\n",
              "      <th></th>\n",
              "      <th>user id</th>\n",
              "      <th>total ads</th>\n",
              "      <th>most ads hour</th>\n",
              "    </tr>\n",
              "  </thead>\n",
              "  <tbody>\n",
              "    <tr>\n",
              "      <th>count</th>\n",
              "      <td>5.881010e+05</td>\n",
              "      <td>588101.000000</td>\n",
              "      <td>588101.000000</td>\n",
              "    </tr>\n",
              "    <tr>\n",
              "      <th>mean</th>\n",
              "      <td>1.310692e+06</td>\n",
              "      <td>24.820876</td>\n",
              "      <td>14.469061</td>\n",
              "    </tr>\n",
              "    <tr>\n",
              "      <th>std</th>\n",
              "      <td>2.022260e+05</td>\n",
              "      <td>43.715181</td>\n",
              "      <td>4.834634</td>\n",
              "    </tr>\n",
              "    <tr>\n",
              "      <th>min</th>\n",
              "      <td>9.000000e+05</td>\n",
              "      <td>1.000000</td>\n",
              "      <td>0.000000</td>\n",
              "    </tr>\n",
              "    <tr>\n",
              "      <th>25%</th>\n",
              "      <td>1.143190e+06</td>\n",
              "      <td>4.000000</td>\n",
              "      <td>11.000000</td>\n",
              "    </tr>\n",
              "    <tr>\n",
              "      <th>50%</th>\n",
              "      <td>1.313725e+06</td>\n",
              "      <td>13.000000</td>\n",
              "      <td>14.000000</td>\n",
              "    </tr>\n",
              "    <tr>\n",
              "      <th>75%</th>\n",
              "      <td>1.484088e+06</td>\n",
              "      <td>27.000000</td>\n",
              "      <td>18.000000</td>\n",
              "    </tr>\n",
              "    <tr>\n",
              "      <th>max</th>\n",
              "      <td>1.654483e+06</td>\n",
              "      <td>2065.000000</td>\n",
              "      <td>23.000000</td>\n",
              "    </tr>\n",
              "  </tbody>\n",
              "</table>\n",
              "</div>\n",
              "    <div class=\"colab-df-buttons\">\n",
              "\n",
              "  <div class=\"colab-df-container\">\n",
              "    <button class=\"colab-df-convert\" onclick=\"convertToInteractive('df-27cf9ba4-333e-432d-bb8a-7877056d4a07')\"\n",
              "            title=\"Convert this dataframe to an interactive table.\"\n",
              "            style=\"display:none;\">\n",
              "\n",
              "  <svg xmlns=\"http://www.w3.org/2000/svg\" height=\"24px\" viewBox=\"0 -960 960 960\">\n",
              "    <path d=\"M120-120v-720h720v720H120Zm60-500h600v-160H180v160Zm220 220h160v-160H400v160Zm0 220h160v-160H400v160ZM180-400h160v-160H180v160Zm440 0h160v-160H620v160ZM180-180h160v-160H180v160Zm440 0h160v-160H620v160Z\"/>\n",
              "  </svg>\n",
              "    </button>\n",
              "\n",
              "  <style>\n",
              "    .colab-df-container {\n",
              "      display:flex;\n",
              "      gap: 12px;\n",
              "    }\n",
              "\n",
              "    .colab-df-convert {\n",
              "      background-color: #E8F0FE;\n",
              "      border: none;\n",
              "      border-radius: 50%;\n",
              "      cursor: pointer;\n",
              "      display: none;\n",
              "      fill: #1967D2;\n",
              "      height: 32px;\n",
              "      padding: 0 0 0 0;\n",
              "      width: 32px;\n",
              "    }\n",
              "\n",
              "    .colab-df-convert:hover {\n",
              "      background-color: #E2EBFA;\n",
              "      box-shadow: 0px 1px 2px rgba(60, 64, 67, 0.3), 0px 1px 3px 1px rgba(60, 64, 67, 0.15);\n",
              "      fill: #174EA6;\n",
              "    }\n",
              "\n",
              "    .colab-df-buttons div {\n",
              "      margin-bottom: 4px;\n",
              "    }\n",
              "\n",
              "    [theme=dark] .colab-df-convert {\n",
              "      background-color: #3B4455;\n",
              "      fill: #D2E3FC;\n",
              "    }\n",
              "\n",
              "    [theme=dark] .colab-df-convert:hover {\n",
              "      background-color: #434B5C;\n",
              "      box-shadow: 0px 1px 3px 1px rgba(0, 0, 0, 0.15);\n",
              "      filter: drop-shadow(0px 1px 2px rgba(0, 0, 0, 0.3));\n",
              "      fill: #FFFFFF;\n",
              "    }\n",
              "  </style>\n",
              "\n",
              "    <script>\n",
              "      const buttonEl =\n",
              "        document.querySelector('#df-27cf9ba4-333e-432d-bb8a-7877056d4a07 button.colab-df-convert');\n",
              "      buttonEl.style.display =\n",
              "        google.colab.kernel.accessAllowed ? 'block' : 'none';\n",
              "\n",
              "      async function convertToInteractive(key) {\n",
              "        const element = document.querySelector('#df-27cf9ba4-333e-432d-bb8a-7877056d4a07');\n",
              "        const dataTable =\n",
              "          await google.colab.kernel.invokeFunction('convertToInteractive',\n",
              "                                                    [key], {});\n",
              "        if (!dataTable) return;\n",
              "\n",
              "        const docLinkHtml = 'Like what you see? Visit the ' +\n",
              "          '<a target=\"_blank\" href=https://colab.research.google.com/notebooks/data_table.ipynb>data table notebook</a>'\n",
              "          + ' to learn more about interactive tables.';\n",
              "        element.innerHTML = '';\n",
              "        dataTable['output_type'] = 'display_data';\n",
              "        await google.colab.output.renderOutput(dataTable, element);\n",
              "        const docLink = document.createElement('div');\n",
              "        docLink.innerHTML = docLinkHtml;\n",
              "        element.appendChild(docLink);\n",
              "      }\n",
              "    </script>\n",
              "  </div>\n",
              "\n",
              "\n",
              "<div id=\"df-509ce0e4-2bad-4ba9-a156-4b96e12d8720\">\n",
              "  <button class=\"colab-df-quickchart\" onclick=\"quickchart('df-509ce0e4-2bad-4ba9-a156-4b96e12d8720')\"\n",
              "            title=\"Suggest charts\"\n",
              "            style=\"display:none;\">\n",
              "\n",
              "<svg xmlns=\"http://www.w3.org/2000/svg\" height=\"24px\"viewBox=\"0 0 24 24\"\n",
              "     width=\"24px\">\n",
              "    <g>\n",
              "        <path d=\"M19 3H5c-1.1 0-2 .9-2 2v14c0 1.1.9 2 2 2h14c1.1 0 2-.9 2-2V5c0-1.1-.9-2-2-2zM9 17H7v-7h2v7zm4 0h-2V7h2v10zm4 0h-2v-4h2v4z\"/>\n",
              "    </g>\n",
              "</svg>\n",
              "  </button>\n",
              "\n",
              "<style>\n",
              "  .colab-df-quickchart {\n",
              "      --bg-color: #E8F0FE;\n",
              "      --fill-color: #1967D2;\n",
              "      --hover-bg-color: #E2EBFA;\n",
              "      --hover-fill-color: #174EA6;\n",
              "      --disabled-fill-color: #AAA;\n",
              "      --disabled-bg-color: #DDD;\n",
              "  }\n",
              "\n",
              "  [theme=dark] .colab-df-quickchart {\n",
              "      --bg-color: #3B4455;\n",
              "      --fill-color: #D2E3FC;\n",
              "      --hover-bg-color: #434B5C;\n",
              "      --hover-fill-color: #FFFFFF;\n",
              "      --disabled-bg-color: #3B4455;\n",
              "      --disabled-fill-color: #666;\n",
              "  }\n",
              "\n",
              "  .colab-df-quickchart {\n",
              "    background-color: var(--bg-color);\n",
              "    border: none;\n",
              "    border-radius: 50%;\n",
              "    cursor: pointer;\n",
              "    display: none;\n",
              "    fill: var(--fill-color);\n",
              "    height: 32px;\n",
              "    padding: 0;\n",
              "    width: 32px;\n",
              "  }\n",
              "\n",
              "  .colab-df-quickchart:hover {\n",
              "    background-color: var(--hover-bg-color);\n",
              "    box-shadow: 0 1px 2px rgba(60, 64, 67, 0.3), 0 1px 3px 1px rgba(60, 64, 67, 0.15);\n",
              "    fill: var(--button-hover-fill-color);\n",
              "  }\n",
              "\n",
              "  .colab-df-quickchart-complete:disabled,\n",
              "  .colab-df-quickchart-complete:disabled:hover {\n",
              "    background-color: var(--disabled-bg-color);\n",
              "    fill: var(--disabled-fill-color);\n",
              "    box-shadow: none;\n",
              "  }\n",
              "\n",
              "  .colab-df-spinner {\n",
              "    border: 2px solid var(--fill-color);\n",
              "    border-color: transparent;\n",
              "    border-bottom-color: var(--fill-color);\n",
              "    animation:\n",
              "      spin 1s steps(1) infinite;\n",
              "  }\n",
              "\n",
              "  @keyframes spin {\n",
              "    0% {\n",
              "      border-color: transparent;\n",
              "      border-bottom-color: var(--fill-color);\n",
              "      border-left-color: var(--fill-color);\n",
              "    }\n",
              "    20% {\n",
              "      border-color: transparent;\n",
              "      border-left-color: var(--fill-color);\n",
              "      border-top-color: var(--fill-color);\n",
              "    }\n",
              "    30% {\n",
              "      border-color: transparent;\n",
              "      border-left-color: var(--fill-color);\n",
              "      border-top-color: var(--fill-color);\n",
              "      border-right-color: var(--fill-color);\n",
              "    }\n",
              "    40% {\n",
              "      border-color: transparent;\n",
              "      border-right-color: var(--fill-color);\n",
              "      border-top-color: var(--fill-color);\n",
              "    }\n",
              "    60% {\n",
              "      border-color: transparent;\n",
              "      border-right-color: var(--fill-color);\n",
              "    }\n",
              "    80% {\n",
              "      border-color: transparent;\n",
              "      border-right-color: var(--fill-color);\n",
              "      border-bottom-color: var(--fill-color);\n",
              "    }\n",
              "    90% {\n",
              "      border-color: transparent;\n",
              "      border-bottom-color: var(--fill-color);\n",
              "    }\n",
              "  }\n",
              "</style>\n",
              "\n",
              "  <script>\n",
              "    async function quickchart(key) {\n",
              "      const quickchartButtonEl =\n",
              "        document.querySelector('#' + key + ' button');\n",
              "      quickchartButtonEl.disabled = true;  // To prevent multiple clicks.\n",
              "      quickchartButtonEl.classList.add('colab-df-spinner');\n",
              "      try {\n",
              "        const charts = await google.colab.kernel.invokeFunction(\n",
              "            'suggestCharts', [key], {});\n",
              "      } catch (error) {\n",
              "        console.error('Error during call to suggestCharts:', error);\n",
              "      }\n",
              "      quickchartButtonEl.classList.remove('colab-df-spinner');\n",
              "      quickchartButtonEl.classList.add('colab-df-quickchart-complete');\n",
              "    }\n",
              "    (() => {\n",
              "      let quickchartButtonEl =\n",
              "        document.querySelector('#df-509ce0e4-2bad-4ba9-a156-4b96e12d8720 button');\n",
              "      quickchartButtonEl.style.display =\n",
              "        google.colab.kernel.accessAllowed ? 'block' : 'none';\n",
              "    })();\n",
              "  </script>\n",
              "</div>\n",
              "\n",
              "    </div>\n",
              "  </div>\n"
            ],
            "application/vnd.google.colaboratory.intrinsic+json": {
              "type": "dataframe",
              "summary": "{\n  \"name\": \"df\",\n  \"rows\": 8,\n  \"fields\": [\n    {\n      \"column\": \"user id\",\n      \"properties\": {\n        \"dtype\": \"number\",\n        \"std\": 485470.67814461567,\n        \"min\": 202225.98312774944,\n        \"max\": 1654483.0,\n        \"num_unique_values\": 8,\n        \"samples\": [\n          1310692.2157928655,\n          1313725.0,\n          588101.0\n        ],\n        \"semantic_type\": \"\",\n        \"description\": \"\"\n      }\n    },\n    {\n      \"column\": \"total ads\",\n      \"properties\": {\n        \"dtype\": \"number\",\n        \"std\": 207816.30368195256,\n        \"min\": 1.0,\n        \"max\": 588101.0,\n        \"num_unique_values\": 8,\n        \"samples\": [\n          24.82087600599217,\n          13.0,\n          588101.0\n        ],\n        \"semantic_type\": \"\",\n        \"description\": \"\"\n      }\n    },\n    {\n      \"column\": \"most ads hour\",\n      \"properties\": {\n        \"dtype\": \"number\",\n        \"std\": 207920.79419886248,\n        \"min\": 0.0,\n        \"max\": 588101.0,\n        \"num_unique_values\": 8,\n        \"samples\": [\n          14.469060586531905,\n          14.0,\n          588101.0\n        ],\n        \"semantic_type\": \"\",\n        \"description\": \"\"\n      }\n    }\n  ]\n}"
            }
          },
          "metadata": {},
          "execution_count": 26
        }
      ]
    },
    {
      "cell_type": "code",
      "source": [
        "# Filtrar el grupo 'ad'\n",
        "ad_group = df[df['test group'] == 'ad']\n",
        "\n",
        "# Datos del grupo 'ad'\n",
        "n_ad = len(ad_group)\n",
        "mean_ad = ad_group['total ads'].mean()\n",
        "std_ad = ad_group['total ads'].std(ddof=1)\n",
        "\n",
        "print(f'Tamaño del grupo ad: {n_ad}')\n",
        "print(f'Media del grupo ad: {mean_ad:.2f}')\n",
        "print(f'Desviación estándar del grupo ad: {std_ad:.2f}')"
      ],
      "metadata": {
        "id": "LGcjUd7qHFGI",
        "outputId": "8a5f8f9f-23be-43fd-d379-bf1ad9b8db44",
        "colab": {
          "base_uri": "https://localhost:8080/"
        }
      },
      "execution_count": null,
      "outputs": [
        {
          "output_type": "stream",
          "name": "stdout",
          "text": [
            "Tamaño del grupo ad: 564577\n",
            "Media del grupo ad: 24.82\n",
            "Desviación estándar del grupo ad: 43.75\n"
          ]
        }
      ]
    },
    {
      "cell_type": "code",
      "source": [
        "# Tasa de Conversión del grupo\n",
        "print(\"\\nTasa de Conversión del grupo:\")\n",
        "conversion_rates = df.groupby('test group')['converted'].mean()\n",
        "print(conversion_rates)"
      ],
      "metadata": {
        "id": "OFjIpsTZJG6l",
        "outputId": "9fa67b18-739f-414f-d030-1eb2b456e3b7",
        "colab": {
          "base_uri": "https://localhost:8080/"
        }
      },
      "execution_count": null,
      "outputs": [
        {
          "output_type": "stream",
          "name": "stdout",
          "text": [
            "\n",
            "Tasa de Conversión del grupo:\n",
            "test group\n",
            "ad     0.025547\n",
            "psa    0.017854\n",
            "Name: converted, dtype: float64\n"
          ]
        }
      ]
    },
    {
      "cell_type": "code",
      "source": [
        "from statsmodels.stats.weightstats import ztest\n",
        "alpha = 0.05\n",
        "#Z-test de una muestra\n",
        "z_statistisc, p_value = ztest(ad_group['converted'], value=7, alternative='two-sided')\n",
        "\n",
        "if p_value < alpha:\n",
        "  print('Se rechaza la hipotesis nula')\n",
        "else:\n",
        "  print('No se rechaza la hipotesis nula')"
      ],
      "metadata": {
        "id": "YVbO7ydmJaMC",
        "outputId": "c0dbae45-d354-416d-9fac-379d285bef66",
        "colab": {
          "base_uri": "https://localhost:8080/"
        }
      },
      "execution_count": null,
      "outputs": [
        {
          "output_type": "stream",
          "name": "stdout",
          "text": [
            "Se rechaza la hipotesis nula\n"
          ]
        }
      ]
    },
    {
      "cell_type": "markdown",
      "source": [
        "2. Prueba de Hipótesis para Dos Muestras (Total de Anuncios Vistos):\n",
        "\n",
        "Compara el número promedio de anuncios vistos entre los grupos ad y psa. ¿Es la diferencia significativa?\n",
        "\n",
        "**Hipótesis:**\n",
        "\n",
        "- **\\( H_0 \\):** Los promedios de anuncios son iguales $(p_{\\text{ad}} = p_{\\text{psa}}).$\n",
        "- **\\( H_a \\):** Los promedios de anuncios son diferentes $(p_{\\text{ad}} \\neq p_{\\text{psa}}).$"
      ],
      "metadata": {
        "id": "T823greBMNOu"
      }
    },
    {
      "cell_type": "code",
      "source": [
        "# Filtrar el grupo `ad`\n",
        "ad_group = df[df['test group'] == 'ad']\n",
        "\n",
        "# Datos del grupo `ad`\n",
        "n_ad = len(ad_group)\n",
        "mean_ad = ad_group['total ads'].mean()\n",
        "std_ad = ad_group['total ads'].std(ddof=1)\n",
        "\n",
        "print(f'Tamaño del grupo ad: {n_ad}')\n",
        "print(f'Media del grupo ad: {mean_ad:.2f}')\n",
        "print(f'Desviación estándar del grupo ad: {std_ad:.2f}')"
      ],
      "metadata": {
        "id": "PhVAIhotLu2I",
        "outputId": "a9128589-c883-4db7-e770-72e00ed16778",
        "colab": {
          "base_uri": "https://localhost:8080/"
        }
      },
      "execution_count": null,
      "outputs": [
        {
          "output_type": "stream",
          "name": "stdout",
          "text": [
            "Tamaño del grupo ad: 564577\n",
            "Media del grupo ad: 24.82\n",
            "Desviación estándar del grupo ad: 43.75\n"
          ]
        }
      ]
    },
    {
      "cell_type": "code",
      "source": [
        "# Filtrar el grupo `ps`\n",
        "psa_group = df[df['test group'] == 'psa']\n",
        "\n",
        "# Datos del grupo `ps`\n",
        "n_psa = len(psa_group)\n",
        "mean_psa = psa_group['total ads'].mean()\n",
        "std_psa = psa_group['total ads'].std(ddof=1)\n",
        "\n",
        "print(f'Tamaño del grupo psa: {n_psa}')\n",
        "print(f'Media del grupo psa: {mean_psa:.2f}')\n",
        "print(f'Desviación estándar del grupo psa: {std_psa:.2f}')"
      ],
      "metadata": {
        "id": "b6PJV84ONasS",
        "outputId": "8b6744ae-2b58-44a1-cfd7-647b97262e10",
        "colab": {
          "base_uri": "https://localhost:8080/"
        }
      },
      "execution_count": null,
      "outputs": [
        {
          "output_type": "stream",
          "name": "stdout",
          "text": [
            "Tamaño del grupo psa: 23524\n",
            "Media del grupo psa: 24.76\n",
            "Desviación estándar del grupo psa: 42.86\n"
          ]
        }
      ]
    },
    {
      "cell_type": "code",
      "source": [
        "# Prueba t para muestras independientes (Welch's t-test si las varianzas no son iguales)\n",
        "t_stat_ind, p_value_ind = stats.ttest_ind(psa_group['total ads'],\n",
        "                                          ad_group['total ads'],\n",
        "                                          equal_var=False)\n"
      ],
      "metadata": {
        "id": "jR-1OkFZPQvG"
      },
      "execution_count": null,
      "outputs": []
    },
    {
      "cell_type": "code",
      "source": [
        "alpha = 0.05\n",
        "\n",
        "if p_value_ind < alpha:\n",
        "  print('Se rechaza la hipotesis nula')\n",
        "else:\n",
        "  print('No se rechaza la hipotesis nula')"
      ],
      "metadata": {
        "id": "piIqzbLePrvJ",
        "outputId": "c89d0d55-68f5-47e0-a7ab-22958990016e",
        "colab": {
          "base_uri": "https://localhost:8080/"
        }
      },
      "execution_count": null,
      "outputs": [
        {
          "output_type": "stream",
          "name": "stdout",
          "text": [
            "No se rechaza la hipotesis nula\n"
          ]
        }
      ]
    },
    {
      "cell_type": "markdown",
      "source": [
        "3. Prueba de Hipótesis para Proporciones (Conversión en Horas Pico):\n",
        "\n",
        "Analiza si la proporción de conversiones durante la hora de mayor exposición es diferente entre los grupos.\n",
        "\n",
        "(H_0): La proporción de conversiones durante la hora de mayor exposición del grupo \"ad\" es diferente al del grupo \"psd\"\n",
        "\n",
        "(H_a): La proporción de conversiones durante la hora de mayor exposición del grupo \"ad\" es igual al del grupo \"psd\"\n"
      ],
      "metadata": {
        "id": "HAHVrTB8SLYQ"
      }
    },
    {
      "cell_type": "code",
      "source": [
        "# Análisis de Conversiones y Hora de Máxima Exposición por Grupo\n",
        "print(\"\\nAnálisis de Conversiones y Hora de Máxima Exposición por Grupo:\")\n",
        "ads_stats = df.groupby('test group')[['converted', 'most ads hour']].mean()\n",
        "print(ads_stats)"
      ],
      "metadata": {
        "id": "2cT59mCkXnvK",
        "outputId": "03676e66-0a03-477c-8ebf-c7c931d377a9",
        "colab": {
          "base_uri": "https://localhost:8080/"
        }
      },
      "execution_count": 4,
      "outputs": [
        {
          "output_type": "stream",
          "name": "stdout",
          "text": [
            "\n",
            "Análisis de Conversiones y Hora de Máxima Exposición por Grupo:\n",
            "            converted  most ads hour\n",
            "test group                          \n",
            "ad           0.025547      14.475900\n",
            "psa          0.017854      14.304923\n"
          ]
        }
      ]
    },
    {
      "cell_type": "code",
      "source": [
        "# Filtrar el grupo `ad`\n",
        "ad_group = df[df['test group'] == 'ad']\n",
        "\n",
        "# Filtrar por la hora de mayor exposición\n",
        "ad_group = ad_group[ad_group['most ads hour'] == 23]\n"
      ],
      "metadata": {
        "id": "swSiIx1NOKBr"
      },
      "execution_count": 6,
      "outputs": []
    },
    {
      "cell_type": "code",
      "source": [
        "n_ad = len(ad_group)\n",
        "print(n_ad)"
      ],
      "metadata": {
        "id": "GIcEQ31RW7kC",
        "outputId": "4d62e88a-3932-45bd-c275-68443c71e62b",
        "colab": {
          "base_uri": "https://localhost:8080/"
        }
      },
      "execution_count": 8,
      "outputs": [
        {
          "output_type": "stream",
          "name": "stdout",
          "text": [
            "19547\n"
          ]
        }
      ]
    },
    {
      "cell_type": "code",
      "source": [
        "# Filtrar el grupo `ps`\n",
        "psa_group = df[df['test group'] == 'psa']\n",
        "\n",
        "# Filtrar por la hora de mayor exposición\n",
        "psa_group = psa_group[psa_group['most ads hour'] == 23]"
      ],
      "metadata": {
        "id": "WcS8fSVROLtg"
      },
      "execution_count": 11,
      "outputs": []
    },
    {
      "cell_type": "code",
      "source": [
        "n_psa = len(psa_group)\n",
        "print(n_psa)"
      ],
      "metadata": {
        "id": "Byq4eGLgZ0fr",
        "outputId": "05e246c8-80d1-46d2-e1f0-4877885333bf",
        "colab": {
          "base_uri": "https://localhost:8080/"
        }
      },
      "execution_count": 12,
      "outputs": [
        {
          "output_type": "stream",
          "name": "stdout",
          "text": [
            "619\n"
          ]
        }
      ]
    },
    {
      "cell_type": "code",
      "source": [
        "# Contadores de conversiones\n",
        "success_psa = psa_group['converted'].sum()\n",
        "success_ad = ad_group['converted'].sum()\n",
        "\n",
        "# Tamaños de las muestras (proporsiones)\n",
        "p_psa = success_psa / n_psa\n",
        "p_ad = success_ad / n_ad\n",
        "\n",
        "#Proporsiones combinadas\n",
        "p_pool = (success_psa + success_ad) / (n_psa + n_ad)\n",
        "\n",
        "# Estadístico Z para proporciones\n",
        "Z_stat = (p_psa - p_ad) / np.sqrt(p_pool * (1 - p_pool) * (1/n_psa + 1/n_ad))\n",
        "p_value_prop = stats.norm.sf(np.abs(Z_stat)) * 2  # Prueba bilateral\n",
        "\n",
        "print(f\"\\nPrueba de Hipótesis para Proporciones (Conversión Grupo `ad` vs Grupo `psa`):\")\n",
        "print(f\"Estadístico Z: {Z_stat:.2f}\")\n",
        "print(f\"p-valor: {p_value_prop:.2f}\")\n",
        "\n",
        "alpha = 0.05\n",
        "\n",
        "if p_value_prop < alpha:\n",
        "  print('Se rechaza la hipotesis nula')\n",
        "else:\n",
        "  print('No se rechaza la hipotesis nula')"
      ],
      "metadata": {
        "id": "l8NVH4KBYfTo",
        "outputId": "f7f59867-b960-48bb-9f28-016b25637f28",
        "colab": {
          "base_uri": "https://localhost:8080/"
        }
      },
      "execution_count": 15,
      "outputs": [
        {
          "output_type": "stream",
          "name": "stdout",
          "text": [
            "\n",
            "Prueba de Hipótesis para Proporciones (Conversión Grupo `ad` vs Grupo `psa`):\n",
            "Estadístico Z: -1.65\n",
            "p-valor: 0.10\n",
            "No se rechaza la hipotesis nula\n"
          ]
        }
      ]
    },
    {
      "cell_type": "markdown",
      "source": [
        "4. Visualización de Datos:\n",
        "\n",
        "Crea gráficos que representen las tasas de conversión y otras variables clave para visualizar las diferencias."
      ],
      "metadata": {
        "id": "59_XmtLscrZu"
      }
    },
    {
      "cell_type": "code",
      "source": [],
      "metadata": {
        "id": "gnM0Hz9GcpdQ"
      },
      "execution_count": null,
      "outputs": []
    },
    {
      "cell_type": "markdown",
      "source": [
        "\n",
        "<a name=\"7\"></a>\n",
        "## **7. Referencias**\n",
        "\n",
        "- Montgomery, D. C., & Runger, G. C. (2014). **Applied Statistics and Probability for Engineers**. Wiley.\n",
        "- Rice, J. A. (2006). **Mathematical Statistics and Data Analysis**. Cengage Learning.\n",
        "- Kaggle Dataset: [Marketing A/B Testing](https://www.kaggle.com/datasets/faviovaz/marketing-ab-testing)\n",
        "\n",
        "---"
      ],
      "metadata": {
        "id": "eLgFLR7G_TMO"
      }
    }
  ]
}