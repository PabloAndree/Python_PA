{
  "nbformat": 4,
  "nbformat_minor": 0,
  "metadata": {
    "colab": {
      "provenance": [],
      "include_colab_link": true
    },
    "kernelspec": {
      "name": "python3",
      "display_name": "Python 3"
    },
    "language_info": {
      "name": "python"
    }
  },
  "cells": [
    {
      "cell_type": "markdown",
      "metadata": {
        "id": "view-in-github",
        "colab_type": "text"
      },
      "source": [
        "<a href=\"https://colab.research.google.com/github/PabloAndree/Python_PA/blob/main/01-Fundamentos-Estadistica-Descriptiva-PA.ipynb\" target=\"_parent\"><img src=\"https://colab.research.google.com/assets/colab-badge.svg\" alt=\"Open In Colab\"/></a>"
      ]
    },
    {
      "cell_type": "markdown",
      "source": [
        "\n",
        "<img src=\"https://storage.googleapis.com/kaggle-datasets-images/4471/6849/ef168f48f7a3fc4c669f4bd419c3f7ab/dataset-cover.jpg?t=2017-11-12-21-28-19\" alt=\"HTML5 Icon\" style=\"width: 600px; height: 450px;\">\n",
        "<div style=\"text-align: center\"></div>"
      ],
      "metadata": {
        "id": "SFsaVG60csB1"
      }
    },
    {
      "cell_type": "markdown",
      "source": [
        "<h1 style=\"text-align: center;\">Bank Marketing Dataset</h1>\n"
      ],
      "metadata": {
        "id": "QLRqaYhicMuY"
      }
    },
    {
      "cell_type": "markdown",
      "source": [
        "\n",
        "**Introducción**\n",
        "\n",
        "En este laboratorio, aprenderás a usar Python para analizar datos aplicando los fundamentos de estadística descriptiva. Trabajaremos con el conjunto de datos de marketing bancario para explorar las características de los clientes y comprender cómo aplicar técnicas estadísticas clave."
      ],
      "metadata": {
        "id": "1nQ6M-RLcTu4"
      }
    },
    {
      "cell_type": "markdown",
      "source": [
        "### Tabla de Contenidos\n",
        "\n",
        "1. [Importación de librerías](#importacion-de-librerias)\n",
        "2. [Lectura del dataset](#lectura-del-dataset)\n",
        "3. [Análisis estadístico básico](#analisis-estadistico-basico)\n",
        "   - [Media, mediana, moda, cuantiles](#media-mediana-moda-y-cuantiles)\n",
        "   - [Desviación estándar y rangos](#desviacion-estandar-y-rangos)\n",
        "4. [Visualización de datos](#visualizacion-de-datos)\n",
        "   - [Histogramas](#histogramas)\n",
        "   - [Boxplots](#boxplots)\n"
      ],
      "metadata": {
        "id": "5BhdZQyXc0eu"
      }
    },
    {
      "cell_type": "markdown",
      "source": [
        "---"
      ],
      "metadata": {
        "id": "AI___q9PdmUn"
      }
    },
    {
      "cell_type": "markdown",
      "source": [
        "## 1. Importación de librerías\n"
      ],
      "metadata": {
        "id": "DDQC410fe6pF"
      }
    },
    {
      "cell_type": "markdown",
      "source": [
        "Estas librerías son fundamentales para el análisis de datos. pandas y numpy nos permiten manejar y procesar datos eficientemente, mientras que seaborn y matplotlib nos ayudan a visualizarlos."
      ],
      "metadata": {
        "id": "InF3fI4LfSgr"
      }
    },
    {
      "cell_type": "code",
      "source": [
        "# Importamos las librerías necesarias para manejar datos y realizar visualizaciones.\n",
        "\n",
        "import pandas as pd\n",
        "import numpy as np\n",
        "from sklearn.preprocessing import KBinsDiscretizer\n",
        "import seaborn as sns\n",
        "import matplotlib.pyplot as plt\n"
      ],
      "metadata": {
        "id": "Zl53dz2ubRs0"
      },
      "execution_count": 1,
      "outputs": []
    },
    {
      "cell_type": "markdown",
      "source": [
        "## 2. Lectura del dataset\n"
      ],
      "metadata": {
        "id": "f5OdMe6xfHpJ"
      }
    },
    {
      "cell_type": "markdown",
      "source": [
        " En este paso, cargamos el archivo bank.csv que contiene datos sobre clientes de una campaña de marketing de un banco. Exploramos las primeras filas para asegurarnos de que el archivo se ha cargado correctamente."
      ],
      "metadata": {
        "id": "iirV4WlzfPrf"
      }
    },
    {
      "cell_type": "code",
      "execution_count": 3,
      "metadata": {
        "id": "6_EK3xubawLN",
        "outputId": "4e7e0c5f-a1d6-4aea-d800-1dfe3e0fd215",
        "colab": {
          "base_uri": "https://localhost:8080/"
        }
      },
      "outputs": [
        {
          "output_type": "stream",
          "name": "stdout",
          "text": [
            "Primeras filas del dataset:\n",
            "   age         job  marital  education default  balance housing loan  contact  \\\n",
            "0   59      admin.  married  secondary      no     2343     yes   no  unknown   \n",
            "1   56      admin.  married  secondary      no       45      no   no  unknown   \n",
            "2   41  technician  married  secondary      no     1270     yes   no  unknown   \n",
            "3   55    services  married  secondary      no     2476     yes   no  unknown   \n",
            "4   54      admin.  married   tertiary      no      184      no   no  unknown   \n",
            "\n",
            "   day month  duration  campaign  pdays  previous poutcome deposit  \n",
            "0    5   may      1042         1     -1         0  unknown     yes  \n",
            "1    5   may      1467         1     -1         0  unknown     yes  \n",
            "2    5   may      1389         1     -1         0  unknown     yes  \n",
            "3    5   may       579         1     -1         0  unknown     yes  \n",
            "4    5   may       673         2     -1         0  unknown     yes  \n"
          ]
        }
      ],
      "source": [
        "# Cargamos los datos desde un archivo CSV y mostramos las primeras filas para verificar su correcta lectura.\n",
        "pddf = pd.read_csv('/content/bank 3.csv')\n",
        "print(\"Primeras filas del dataset:\")\n",
        "print(pddf.head())\n"
      ]
    },
    {
      "cell_type": "code",
      "source": [
        "from google.colab import drive\n",
        "drive.mount('/content/drive')"
      ],
      "metadata": {
        "id": "MgPZVM3SFi2D",
        "outputId": "f2abc4e6-a2e8-4b1b-f4d6-30849f8ea2d3",
        "colab": {
          "base_uri": "https://localhost:8080/"
        }
      },
      "execution_count": 4,
      "outputs": [
        {
          "output_type": "stream",
          "name": "stdout",
          "text": [
            "Mounted at /content/drive\n"
          ]
        }
      ]
    },
    {
      "cell_type": "markdown",
      "source": [
        "### 2.1. Exploración inicial de datos\n",
        "\n"
      ],
      "metadata": {
        "id": "JspdWwYUdnqB"
      }
    },
    {
      "cell_type": "markdown",
      "source": [
        "Este análisis inicial nos permite entender el tamaño del conjunto de datos (número de filas y columnas) y los tipos de datos presentes en cada columna, lo cual es útil para preparar el análisis."
      ],
      "metadata": {
        "id": "C65yNO1Wfj3j"
      }
    },
    {
      "cell_type": "code",
      "source": [
        "# Mostramos el tamaño del dataset y el tipo de datos para cada columna.\n",
        "print(\"Dimensiones del dataset:\", pddf.shape)\n",
        "print(\"Tipos de datos en cada columna:\")\n",
        "print(pddf.dtypes)\n"
      ],
      "metadata": {
        "id": "98qsllq_dzYq",
        "outputId": "98d48703-62ee-4037-e1dd-77cdbbd5efd1",
        "colab": {
          "base_uri": "https://localhost:8080/"
        }
      },
      "execution_count": 5,
      "outputs": [
        {
          "output_type": "stream",
          "name": "stdout",
          "text": [
            "Dimensiones del dataset: (11162, 17)\n",
            "Tipos de datos en cada columna:\n",
            "age           int64\n",
            "job          object\n",
            "marital      object\n",
            "education    object\n",
            "default      object\n",
            "balance       int64\n",
            "housing      object\n",
            "loan         object\n",
            "contact      object\n",
            "day           int64\n",
            "month        object\n",
            "duration      int64\n",
            "campaign      int64\n",
            "pdays         int64\n",
            "previous      int64\n",
            "poutcome     object\n",
            "deposit      object\n",
            "dtype: object\n"
          ]
        }
      ]
    },
    {
      "cell_type": "markdown",
      "source": [
        "## 3. Medidas de tendencia central\n"
      ],
      "metadata": {
        "id": "dhpMIsn6dzrm"
      }
    },
    {
      "cell_type": "markdown",
      "source": [
        "### 3.1. Media\n"
      ],
      "metadata": {
        "id": "9egmC7U2eE2T"
      }
    },
    {
      "cell_type": "markdown",
      "source": [
        "La media nos proporciona el valor promedio de una variable. Aquí calculamos la media de la edad de los clientes."
      ],
      "metadata": {
        "id": "iEjweE6NfyIK"
      }
    },
    {
      "cell_type": "code",
      "source": [
        "#Redondear\n",
        "round(pddf['age'].mean(), 0)"
      ],
      "metadata": {
        "id": "3mg64jtJJUUL",
        "outputId": "751a52c2-8ab4-4400-ffd3-7b5094947a27",
        "colab": {
          "base_uri": "https://localhost:8080/"
        }
      },
      "execution_count": 6,
      "outputs": [
        {
          "output_type": "execute_result",
          "data": {
            "text/plain": [
              "41.0"
            ]
          },
          "metadata": {},
          "execution_count": 6
        }
      ]
    },
    {
      "cell_type": "code",
      "source": [
        "# Calculamos la media de la edad.\n",
        "print(\"Media de edad:\", pddf['age'].mean())"
      ],
      "metadata": {
        "id": "yFHaDQ_6ftaM",
        "outputId": "88977023-1f9a-4af3-caf6-480337d590c6",
        "colab": {
          "base_uri": "https://localhost:8080/"
        }
      },
      "execution_count": 8,
      "outputs": [
        {
          "output_type": "stream",
          "name": "stdout",
          "text": [
            "Media de edad: 41.231947679627304\n"
          ]
        }
      ]
    },
    {
      "cell_type": "markdown",
      "source": [
        "### 3.2. Mediana\n"
      ],
      "metadata": {
        "id": "sB_MDYMgfxZS"
      }
    },
    {
      "cell_type": "markdown",
      "source": [
        "La mediana es el valor central de una distribución y es menos sensible a valores atípicos que la media."
      ],
      "metadata": {
        "id": "Vy7KXpT4f3XT"
      }
    },
    {
      "cell_type": "code",
      "source": [
        "pddf['age'].median()"
      ],
      "metadata": {
        "id": "u88HDyRYJuWm",
        "outputId": "2718a642-7515-4277-cfe6-5e46f55ab980",
        "colab": {
          "base_uri": "https://localhost:8080/"
        }
      },
      "execution_count": 7,
      "outputs": [
        {
          "output_type": "execute_result",
          "data": {
            "text/plain": [
              "39.0"
            ]
          },
          "metadata": {},
          "execution_count": 7
        }
      ]
    },
    {
      "cell_type": "code",
      "source": [
        "# Calculamos la mediana de la edad.\n",
        "print(\"Mediana de edad:\", pddf['age'].median())"
      ],
      "metadata": {
        "id": "jdd4Qq0nf3-X",
        "outputId": "187a414a-9da8-4c08-f3cd-3eb9fcd16726",
        "colab": {
          "base_uri": "https://localhost:8080/"
        }
      },
      "execution_count": 9,
      "outputs": [
        {
          "output_type": "stream",
          "name": "stdout",
          "text": [
            "Mediana de edad: 39.0\n"
          ]
        }
      ]
    },
    {
      "cell_type": "code",
      "source": [
        "pddf['default_num'] = pddf['default'].map({'no': 0, 'yes': 1})\n",
        "pddf['default_num'].mean()"
      ],
      "metadata": {
        "id": "sOMpFWkeNUeC",
        "outputId": "54c9b53e-e09c-481e-b82f-cbd868f3ab48",
        "colab": {
          "base_uri": "https://localhost:8080/"
        }
      },
      "execution_count": 19,
      "outputs": [
        {
          "output_type": "execute_result",
          "data": {
            "text/plain": [
              "0.0150510661171833"
            ]
          },
          "metadata": {},
          "execution_count": 19
        }
      ]
    },
    {
      "cell_type": "code",
      "source": [
        "pddf[['age', 'balance', 'duration']].mean()"
      ],
      "metadata": {
        "id": "YP03bhlBKVeh",
        "outputId": "133d63bb-0d06-4bed-a801-e952aa254670",
        "colab": {
          "base_uri": "https://localhost:8080/",
          "height": 178
        }
      },
      "execution_count": 11,
      "outputs": [
        {
          "output_type": "execute_result",
          "data": {
            "text/plain": [
              "age           41.231948\n",
              "balance     1528.538524\n",
              "duration     371.993818\n",
              "dtype: float64"
            ],
            "text/html": [
              "<div>\n",
              "<style scoped>\n",
              "    .dataframe tbody tr th:only-of-type {\n",
              "        vertical-align: middle;\n",
              "    }\n",
              "\n",
              "    .dataframe tbody tr th {\n",
              "        vertical-align: top;\n",
              "    }\n",
              "\n",
              "    .dataframe thead th {\n",
              "        text-align: right;\n",
              "    }\n",
              "</style>\n",
              "<table border=\"1\" class=\"dataframe\">\n",
              "  <thead>\n",
              "    <tr style=\"text-align: right;\">\n",
              "      <th></th>\n",
              "      <th>0</th>\n",
              "    </tr>\n",
              "  </thead>\n",
              "  <tbody>\n",
              "    <tr>\n",
              "      <th>age</th>\n",
              "      <td>41.231948</td>\n",
              "    </tr>\n",
              "    <tr>\n",
              "      <th>balance</th>\n",
              "      <td>1528.538524</td>\n",
              "    </tr>\n",
              "    <tr>\n",
              "      <th>duration</th>\n",
              "      <td>371.993818</td>\n",
              "    </tr>\n",
              "  </tbody>\n",
              "</table>\n",
              "</div><br><label><b>dtype:</b> float64</label>"
            ]
          },
          "metadata": {},
          "execution_count": 11
        }
      ]
    },
    {
      "cell_type": "code",
      "source": [
        "pddf[['age', 'balance', 'duration']].median()"
      ],
      "metadata": {
        "id": "LHMZSjmdKmgP",
        "outputId": "0c6b35f1-bd8b-43d1-8403-f8811e160585",
        "colab": {
          "base_uri": "https://localhost:8080/",
          "height": 178
        }
      },
      "execution_count": 12,
      "outputs": [
        {
          "output_type": "execute_result",
          "data": {
            "text/plain": [
              "age          39.0\n",
              "balance     550.0\n",
              "duration    255.0\n",
              "dtype: float64"
            ],
            "text/html": [
              "<div>\n",
              "<style scoped>\n",
              "    .dataframe tbody tr th:only-of-type {\n",
              "        vertical-align: middle;\n",
              "    }\n",
              "\n",
              "    .dataframe tbody tr th {\n",
              "        vertical-align: top;\n",
              "    }\n",
              "\n",
              "    .dataframe thead th {\n",
              "        text-align: right;\n",
              "    }\n",
              "</style>\n",
              "<table border=\"1\" class=\"dataframe\">\n",
              "  <thead>\n",
              "    <tr style=\"text-align: right;\">\n",
              "      <th></th>\n",
              "      <th>0</th>\n",
              "    </tr>\n",
              "  </thead>\n",
              "  <tbody>\n",
              "    <tr>\n",
              "      <th>age</th>\n",
              "      <td>39.0</td>\n",
              "    </tr>\n",
              "    <tr>\n",
              "      <th>balance</th>\n",
              "      <td>550.0</td>\n",
              "    </tr>\n",
              "    <tr>\n",
              "      <th>duration</th>\n",
              "      <td>255.0</td>\n",
              "    </tr>\n",
              "  </tbody>\n",
              "</table>\n",
              "</div><br><label><b>dtype:</b> float64</label>"
            ]
          },
          "metadata": {},
          "execution_count": 12
        }
      ]
    },
    {
      "cell_type": "code",
      "source": [
        "pddf[['age', 'balance', 'duration']].describe()"
      ],
      "metadata": {
        "id": "r7nH2tmrKmCK",
        "outputId": "13b539aa-2394-42a2-b6b4-321e3e74c965",
        "colab": {
          "base_uri": "https://localhost:8080/",
          "height": 300
        }
      },
      "execution_count": 13,
      "outputs": [
        {
          "output_type": "execute_result",
          "data": {
            "text/plain": [
              "                age       balance      duration\n",
              "count  11162.000000  11162.000000  11162.000000\n",
              "mean      41.231948   1528.538524    371.993818\n",
              "std       11.913369   3225.413326    347.128386\n",
              "min       18.000000  -6847.000000      2.000000\n",
              "25%       32.000000    122.000000    138.000000\n",
              "50%       39.000000    550.000000    255.000000\n",
              "75%       49.000000   1708.000000    496.000000\n",
              "max       95.000000  81204.000000   3881.000000"
            ],
            "text/html": [
              "\n",
              "  <div id=\"df-8000849b-db44-4913-8ff3-8bedbe30aa5e\" class=\"colab-df-container\">\n",
              "    <div>\n",
              "<style scoped>\n",
              "    .dataframe tbody tr th:only-of-type {\n",
              "        vertical-align: middle;\n",
              "    }\n",
              "\n",
              "    .dataframe tbody tr th {\n",
              "        vertical-align: top;\n",
              "    }\n",
              "\n",
              "    .dataframe thead th {\n",
              "        text-align: right;\n",
              "    }\n",
              "</style>\n",
              "<table border=\"1\" class=\"dataframe\">\n",
              "  <thead>\n",
              "    <tr style=\"text-align: right;\">\n",
              "      <th></th>\n",
              "      <th>age</th>\n",
              "      <th>balance</th>\n",
              "      <th>duration</th>\n",
              "    </tr>\n",
              "  </thead>\n",
              "  <tbody>\n",
              "    <tr>\n",
              "      <th>count</th>\n",
              "      <td>11162.000000</td>\n",
              "      <td>11162.000000</td>\n",
              "      <td>11162.000000</td>\n",
              "    </tr>\n",
              "    <tr>\n",
              "      <th>mean</th>\n",
              "      <td>41.231948</td>\n",
              "      <td>1528.538524</td>\n",
              "      <td>371.993818</td>\n",
              "    </tr>\n",
              "    <tr>\n",
              "      <th>std</th>\n",
              "      <td>11.913369</td>\n",
              "      <td>3225.413326</td>\n",
              "      <td>347.128386</td>\n",
              "    </tr>\n",
              "    <tr>\n",
              "      <th>min</th>\n",
              "      <td>18.000000</td>\n",
              "      <td>-6847.000000</td>\n",
              "      <td>2.000000</td>\n",
              "    </tr>\n",
              "    <tr>\n",
              "      <th>25%</th>\n",
              "      <td>32.000000</td>\n",
              "      <td>122.000000</td>\n",
              "      <td>138.000000</td>\n",
              "    </tr>\n",
              "    <tr>\n",
              "      <th>50%</th>\n",
              "      <td>39.000000</td>\n",
              "      <td>550.000000</td>\n",
              "      <td>255.000000</td>\n",
              "    </tr>\n",
              "    <tr>\n",
              "      <th>75%</th>\n",
              "      <td>49.000000</td>\n",
              "      <td>1708.000000</td>\n",
              "      <td>496.000000</td>\n",
              "    </tr>\n",
              "    <tr>\n",
              "      <th>max</th>\n",
              "      <td>95.000000</td>\n",
              "      <td>81204.000000</td>\n",
              "      <td>3881.000000</td>\n",
              "    </tr>\n",
              "  </tbody>\n",
              "</table>\n",
              "</div>\n",
              "    <div class=\"colab-df-buttons\">\n",
              "\n",
              "  <div class=\"colab-df-container\">\n",
              "    <button class=\"colab-df-convert\" onclick=\"convertToInteractive('df-8000849b-db44-4913-8ff3-8bedbe30aa5e')\"\n",
              "            title=\"Convert this dataframe to an interactive table.\"\n",
              "            style=\"display:none;\">\n",
              "\n",
              "  <svg xmlns=\"http://www.w3.org/2000/svg\" height=\"24px\" viewBox=\"0 -960 960 960\">\n",
              "    <path d=\"M120-120v-720h720v720H120Zm60-500h600v-160H180v160Zm220 220h160v-160H400v160Zm0 220h160v-160H400v160ZM180-400h160v-160H180v160Zm440 0h160v-160H620v160ZM180-180h160v-160H180v160Zm440 0h160v-160H620v160Z\"/>\n",
              "  </svg>\n",
              "    </button>\n",
              "\n",
              "  <style>\n",
              "    .colab-df-container {\n",
              "      display:flex;\n",
              "      gap: 12px;\n",
              "    }\n",
              "\n",
              "    .colab-df-convert {\n",
              "      background-color: #E8F0FE;\n",
              "      border: none;\n",
              "      border-radius: 50%;\n",
              "      cursor: pointer;\n",
              "      display: none;\n",
              "      fill: #1967D2;\n",
              "      height: 32px;\n",
              "      padding: 0 0 0 0;\n",
              "      width: 32px;\n",
              "    }\n",
              "\n",
              "    .colab-df-convert:hover {\n",
              "      background-color: #E2EBFA;\n",
              "      box-shadow: 0px 1px 2px rgba(60, 64, 67, 0.3), 0px 1px 3px 1px rgba(60, 64, 67, 0.15);\n",
              "      fill: #174EA6;\n",
              "    }\n",
              "\n",
              "    .colab-df-buttons div {\n",
              "      margin-bottom: 4px;\n",
              "    }\n",
              "\n",
              "    [theme=dark] .colab-df-convert {\n",
              "      background-color: #3B4455;\n",
              "      fill: #D2E3FC;\n",
              "    }\n",
              "\n",
              "    [theme=dark] .colab-df-convert:hover {\n",
              "      background-color: #434B5C;\n",
              "      box-shadow: 0px 1px 3px 1px rgba(0, 0, 0, 0.15);\n",
              "      filter: drop-shadow(0px 1px 2px rgba(0, 0, 0, 0.3));\n",
              "      fill: #FFFFFF;\n",
              "    }\n",
              "  </style>\n",
              "\n",
              "    <script>\n",
              "      const buttonEl =\n",
              "        document.querySelector('#df-8000849b-db44-4913-8ff3-8bedbe30aa5e button.colab-df-convert');\n",
              "      buttonEl.style.display =\n",
              "        google.colab.kernel.accessAllowed ? 'block' : 'none';\n",
              "\n",
              "      async function convertToInteractive(key) {\n",
              "        const element = document.querySelector('#df-8000849b-db44-4913-8ff3-8bedbe30aa5e');\n",
              "        const dataTable =\n",
              "          await google.colab.kernel.invokeFunction('convertToInteractive',\n",
              "                                                    [key], {});\n",
              "        if (!dataTable) return;\n",
              "\n",
              "        const docLinkHtml = 'Like what you see? Visit the ' +\n",
              "          '<a target=\"_blank\" href=https://colab.research.google.com/notebooks/data_table.ipynb>data table notebook</a>'\n",
              "          + ' to learn more about interactive tables.';\n",
              "        element.innerHTML = '';\n",
              "        dataTable['output_type'] = 'display_data';\n",
              "        await google.colab.output.renderOutput(dataTable, element);\n",
              "        const docLink = document.createElement('div');\n",
              "        docLink.innerHTML = docLinkHtml;\n",
              "        element.appendChild(docLink);\n",
              "      }\n",
              "    </script>\n",
              "  </div>\n",
              "\n",
              "\n",
              "<div id=\"df-d4c09ac0-06b3-4a8a-8c3d-f880fdf6f90d\">\n",
              "  <button class=\"colab-df-quickchart\" onclick=\"quickchart('df-d4c09ac0-06b3-4a8a-8c3d-f880fdf6f90d')\"\n",
              "            title=\"Suggest charts\"\n",
              "            style=\"display:none;\">\n",
              "\n",
              "<svg xmlns=\"http://www.w3.org/2000/svg\" height=\"24px\"viewBox=\"0 0 24 24\"\n",
              "     width=\"24px\">\n",
              "    <g>\n",
              "        <path d=\"M19 3H5c-1.1 0-2 .9-2 2v14c0 1.1.9 2 2 2h14c1.1 0 2-.9 2-2V5c0-1.1-.9-2-2-2zM9 17H7v-7h2v7zm4 0h-2V7h2v10zm4 0h-2v-4h2v4z\"/>\n",
              "    </g>\n",
              "</svg>\n",
              "  </button>\n",
              "\n",
              "<style>\n",
              "  .colab-df-quickchart {\n",
              "      --bg-color: #E8F0FE;\n",
              "      --fill-color: #1967D2;\n",
              "      --hover-bg-color: #E2EBFA;\n",
              "      --hover-fill-color: #174EA6;\n",
              "      --disabled-fill-color: #AAA;\n",
              "      --disabled-bg-color: #DDD;\n",
              "  }\n",
              "\n",
              "  [theme=dark] .colab-df-quickchart {\n",
              "      --bg-color: #3B4455;\n",
              "      --fill-color: #D2E3FC;\n",
              "      --hover-bg-color: #434B5C;\n",
              "      --hover-fill-color: #FFFFFF;\n",
              "      --disabled-bg-color: #3B4455;\n",
              "      --disabled-fill-color: #666;\n",
              "  }\n",
              "\n",
              "  .colab-df-quickchart {\n",
              "    background-color: var(--bg-color);\n",
              "    border: none;\n",
              "    border-radius: 50%;\n",
              "    cursor: pointer;\n",
              "    display: none;\n",
              "    fill: var(--fill-color);\n",
              "    height: 32px;\n",
              "    padding: 0;\n",
              "    width: 32px;\n",
              "  }\n",
              "\n",
              "  .colab-df-quickchart:hover {\n",
              "    background-color: var(--hover-bg-color);\n",
              "    box-shadow: 0 1px 2px rgba(60, 64, 67, 0.3), 0 1px 3px 1px rgba(60, 64, 67, 0.15);\n",
              "    fill: var(--button-hover-fill-color);\n",
              "  }\n",
              "\n",
              "  .colab-df-quickchart-complete:disabled,\n",
              "  .colab-df-quickchart-complete:disabled:hover {\n",
              "    background-color: var(--disabled-bg-color);\n",
              "    fill: var(--disabled-fill-color);\n",
              "    box-shadow: none;\n",
              "  }\n",
              "\n",
              "  .colab-df-spinner {\n",
              "    border: 2px solid var(--fill-color);\n",
              "    border-color: transparent;\n",
              "    border-bottom-color: var(--fill-color);\n",
              "    animation:\n",
              "      spin 1s steps(1) infinite;\n",
              "  }\n",
              "\n",
              "  @keyframes spin {\n",
              "    0% {\n",
              "      border-color: transparent;\n",
              "      border-bottom-color: var(--fill-color);\n",
              "      border-left-color: var(--fill-color);\n",
              "    }\n",
              "    20% {\n",
              "      border-color: transparent;\n",
              "      border-left-color: var(--fill-color);\n",
              "      border-top-color: var(--fill-color);\n",
              "    }\n",
              "    30% {\n",
              "      border-color: transparent;\n",
              "      border-left-color: var(--fill-color);\n",
              "      border-top-color: var(--fill-color);\n",
              "      border-right-color: var(--fill-color);\n",
              "    }\n",
              "    40% {\n",
              "      border-color: transparent;\n",
              "      border-right-color: var(--fill-color);\n",
              "      border-top-color: var(--fill-color);\n",
              "    }\n",
              "    60% {\n",
              "      border-color: transparent;\n",
              "      border-right-color: var(--fill-color);\n",
              "    }\n",
              "    80% {\n",
              "      border-color: transparent;\n",
              "      border-right-color: var(--fill-color);\n",
              "      border-bottom-color: var(--fill-color);\n",
              "    }\n",
              "    90% {\n",
              "      border-color: transparent;\n",
              "      border-bottom-color: var(--fill-color);\n",
              "    }\n",
              "  }\n",
              "</style>\n",
              "\n",
              "  <script>\n",
              "    async function quickchart(key) {\n",
              "      const quickchartButtonEl =\n",
              "        document.querySelector('#' + key + ' button');\n",
              "      quickchartButtonEl.disabled = true;  // To prevent multiple clicks.\n",
              "      quickchartButtonEl.classList.add('colab-df-spinner');\n",
              "      try {\n",
              "        const charts = await google.colab.kernel.invokeFunction(\n",
              "            'suggestCharts', [key], {});\n",
              "      } catch (error) {\n",
              "        console.error('Error during call to suggestCharts:', error);\n",
              "      }\n",
              "      quickchartButtonEl.classList.remove('colab-df-spinner');\n",
              "      quickchartButtonEl.classList.add('colab-df-quickchart-complete');\n",
              "    }\n",
              "    (() => {\n",
              "      let quickchartButtonEl =\n",
              "        document.querySelector('#df-d4c09ac0-06b3-4a8a-8c3d-f880fdf6f90d button');\n",
              "      quickchartButtonEl.style.display =\n",
              "        google.colab.kernel.accessAllowed ? 'block' : 'none';\n",
              "    })();\n",
              "  </script>\n",
              "</div>\n",
              "\n",
              "    </div>\n",
              "  </div>\n"
            ],
            "application/vnd.google.colaboratory.intrinsic+json": {
              "type": "dataframe",
              "summary": "{\n  \"name\": \"pddf[['age', 'balance', 'duration']]\",\n  \"rows\": 8,\n  \"fields\": [\n    {\n      \"column\": \"age\",\n      \"properties\": {\n        \"dtype\": \"number\",\n        \"std\": 3931.9910823606933,\n        \"min\": 11.913369192215445,\n        \"max\": 11162.0,\n        \"num_unique_values\": 8,\n        \"samples\": [\n          41.231947679627304,\n          39.0,\n          11162.0\n        ],\n        \"semantic_type\": \"\",\n        \"description\": \"\"\n      }\n    },\n    {\n      \"column\": \"balance\",\n      \"properties\": {\n        \"dtype\": \"number\",\n        \"std\": 28556.871708269126,\n        \"min\": -6847.0,\n        \"max\": 81204.0,\n        \"num_unique_values\": 8,\n        \"samples\": [\n          1528.5385235620856,\n          550.0,\n          11162.0\n        ],\n        \"semantic_type\": \"\",\n        \"description\": \"\"\n      }\n    },\n    {\n      \"column\": \"duration\",\n      \"properties\": {\n        \"dtype\": \"number\",\n        \"std\": 3883.583794535372,\n        \"min\": 2.0,\n        \"max\": 11162.0,\n        \"num_unique_values\": 8,\n        \"samples\": [\n          371.99381831213043,\n          255.0,\n          11162.0\n        ],\n        \"semantic_type\": \"\",\n        \"description\": \"\"\n      }\n    }\n  ]\n}"
            }
          },
          "metadata": {},
          "execution_count": 13
        }
      ]
    },
    {
      "cell_type": "markdown",
      "source": [
        "### 3.3. Cuantiles\n"
      ],
      "metadata": {
        "id": "VoKq0Dl6gA1J"
      }
    },
    {
      "cell_type": "markdown",
      "source": [
        "Los cuantiles nos ayudan a dividir los datos en partes iguales. Aquí se muestran los valores de edad al 10%, 25%, 50% (mediana), 75% y 90%."
      ],
      "metadata": {
        "id": "LUyb7PY6gF_V"
      }
    },
    {
      "cell_type": "code",
      "source": [
        "np.porcentile(pddf.age, [25, 75])"
      ],
      "metadata": {
        "id": "0IslIeKOK2Qv"
      },
      "execution_count": null,
      "outputs": []
    },
    {
      "cell_type": "code",
      "source": [
        "# Cuantiles de edad\n",
        "print(np.percentile(pddf.age, [0, 5, 10, 25, 50, 75, 90, 95, 100]))\n"
      ],
      "metadata": {
        "id": "-TfAg_c3gDMU",
        "outputId": "3d5ad79c-a036-4b8a-8f20-ea3467d5fdfa",
        "colab": {
          "base_uri": "https://localhost:8080/"
        }
      },
      "execution_count": 16,
      "outputs": [
        {
          "output_type": "stream",
          "name": "stdout",
          "text": [
            "[18. 26. 28. 32. 39. 49. 58. 61. 95.]\n"
          ]
        }
      ]
    },
    {
      "cell_type": "code",
      "source": [
        "#El 50% de clientes tienen entre 32 y 49 años\n",
        "#El 50% de clientes tienen entre 32 y 49 años"
      ],
      "metadata": {
        "id": "azmwV-huLdyv"
      },
      "execution_count": null,
      "outputs": []
    },
    {
      "cell_type": "code",
      "source": [
        "#El 90% de clientes tienen entre 26 y 61 años"
      ],
      "metadata": {
        "id": "Fnc-LePcMNrJ"
      },
      "execution_count": null,
      "outputs": []
    },
    {
      "cell_type": "markdown",
      "source": [
        "### 3.4. Análisis agrupado con groupby\n"
      ],
      "metadata": {
        "id": "iTTLz8fdiGoJ"
      }
    },
    {
      "cell_type": "markdown",
      "source": [
        "**Media agrupada por estado civil**\n"
      ],
      "metadata": {
        "id": "JeRfsT_kiMfo"
      }
    },
    {
      "cell_type": "code",
      "source": [
        "# Agrupamos los datos por estado civil y calculamos la media de la edad para cada grupo.\n",
        "print(pddf.groupby('marital')['age'].mean())\n"
      ],
      "metadata": {
        "id": "nlMQHekdiKcN",
        "outputId": "9ba7cfbe-802e-47fb-8d23-a93b8b44401a",
        "colab": {
          "base_uri": "https://localhost:8080/"
        }
      },
      "execution_count": 17,
      "outputs": [
        {
          "output_type": "stream",
          "name": "stdout",
          "text": [
            "marital\n",
            "divorced    47.365043\n",
            "married     44.533617\n",
            "single      33.017339\n",
            "Name: age, dtype: float64\n"
          ]
        }
      ]
    },
    {
      "cell_type": "code",
      "source": [
        "#Tasa de pago\n",
        "print(pddf.groupby('marital')['default_num'].mean())"
      ],
      "metadata": {
        "id": "24yzlaplNlGF",
        "outputId": "ad478809-cb8a-4aed-aa62-4cc5c9ac0578",
        "colab": {
          "base_uri": "https://localhost:8080/"
        }
      },
      "execution_count": 20,
      "outputs": [
        {
          "output_type": "stream",
          "name": "stdout",
          "text": [
            "marital\n",
            "divorced    0.021655\n",
            "married     0.014328\n",
            "single      0.013928\n",
            "Name: default_num, dtype: float64\n"
          ]
        }
      ]
    },
    {
      "cell_type": "code",
      "source": [
        "#Tasa de pago\n",
        "print(pddf.groupby('job')['default_num'].mean())"
      ],
      "metadata": {
        "id": "e2AVvPzRN00C",
        "outputId": "e7972649-4f2d-4a01-ebad-24ef1477eb43",
        "colab": {
          "base_uri": "https://localhost:8080/"
        }
      },
      "execution_count": 21,
      "outputs": [
        {
          "output_type": "stream",
          "name": "stdout",
          "text": [
            "job\n",
            "admin.           0.008246\n",
            "blue-collar      0.021091\n",
            "entrepreneur     0.030488\n",
            "housemaid        0.029197\n",
            "management       0.015199\n",
            "retired          0.006427\n",
            "self-employed    0.019753\n",
            "services         0.007584\n",
            "student          0.002778\n",
            "technician       0.015908\n",
            "unemployed       0.022409\n",
            "unknown          0.014286\n",
            "Name: default_num, dtype: float64\n"
          ]
        }
      ]
    },
    {
      "cell_type": "markdown",
      "source": [
        "**Conteo de observaciones por estado civil**"
      ],
      "metadata": {
        "id": "-L70Gxf9iTb2"
      }
    },
    {
      "cell_type": "code",
      "source": [
        "# Mostramos el número de observaciones en cada grupo de estado civil.\n",
        "print(pddf.groupby('marital')['age'].count())\n"
      ],
      "metadata": {
        "id": "HFwh1gWliV3E"
      },
      "execution_count": null,
      "outputs": []
    },
    {
      "cell_type": "markdown",
      "source": [
        "El uso de groupby es crucial para realizar análisis estadísticos segmentados. Agrupar los datos por estado civil, por ejemplo, nos permite ver cómo se distribuyen las edades en función de esa variable."
      ],
      "metadata": {
        "id": "Kuhc7UPGiZCr"
      }
    },
    {
      "cell_type": "markdown",
      "source": [
        "**Media y conteo estándar por educación**\n"
      ],
      "metadata": {
        "id": "HhnTxkMuidko"
      }
    },
    {
      "cell_type": "code",
      "source": [
        "# Calculamos la media y desviación estándar de la duración de la llamada según el nivel educativo.\n",
        "grouped = pddf.groupby('job')['default_num'].agg(['count', 'mean'])\n",
        "print(grouped)"
      ],
      "metadata": {
        "id": "zgtcj8cLO31U",
        "outputId": "d4a159ed-ecbb-4aa0-b559-fd6e9d856c6a",
        "colab": {
          "base_uri": "https://localhost:8080/"
        }
      },
      "execution_count": 23,
      "outputs": [
        {
          "output_type": "stream",
          "name": "stdout",
          "text": [
            "               count      mean\n",
            "job                           \n",
            "admin.          1334  0.008246\n",
            "blue-collar     1944  0.021091\n",
            "entrepreneur     328  0.030488\n",
            "housemaid        274  0.029197\n",
            "management      2566  0.015199\n",
            "retired          778  0.006427\n",
            "self-employed    405  0.019753\n",
            "services         923  0.007584\n",
            "student          360  0.002778\n",
            "technician      1823  0.015908\n",
            "unemployed       357  0.022409\n",
            "unknown           70  0.014286\n"
          ]
        }
      ]
    },
    {
      "cell_type": "code",
      "source": [
        "# Calculamos la media y desviación estándar de la duración de la llamada según el nivel educativo.\n",
        "grouped = pddf.groupby('education')['duration'].agg(['count', 'mean'])\n",
        "print(grouped)\n"
      ],
      "metadata": {
        "id": "qIYXUlZNih7w",
        "outputId": "9a284109-005b-4377-8387-bde4d0248ce1",
        "colab": {
          "base_uri": "https://localhost:8080/"
        }
      },
      "execution_count": 22,
      "outputs": [
        {
          "output_type": "stream",
          "name": "stdout",
          "text": [
            "           count        mean\n",
            "education                   \n",
            "primary     1500  383.803333\n",
            "secondary   5476  373.344960\n",
            "tertiary    3689  368.627812\n",
            "unknown      497  346.448692\n"
          ]
        }
      ]
    },
    {
      "cell_type": "markdown",
      "source": [
        "## 4. Medidas de dispersión"
      ],
      "metadata": {
        "id": "qSTmZTdxhx5g"
      }
    },
    {
      "cell_type": "markdown",
      "source": [
        "### 4.1. Desviación estándar y rangos\n"
      ],
      "metadata": {
        "id": "PiG-JsNNhoa6"
      }
    },
    {
      "cell_type": "markdown",
      "source": [
        "La desviación estándar nos da una idea de la dispersión de los datos alrededor de la media. El rango aproximado nos permite observar el intervalo de valores donde se encuentra la mayoría de los datos."
      ],
      "metadata": {
        "id": "xZBrIcLKiAjn"
      }
    },
    {
      "cell_type": "code",
      "source": [
        "# Calculamos la desviación estándar y el rango de la edad.\n",
        "media_edad = pddf['age'].mean()\n",
        "std_edad = pddf['age'].std()\n",
        "print(f\"Media de la edad: {media_edad}\")\n",
        "print(f\"Desviación estándar de la edad: {std_edad}\")\n",
        "print(f\"Rango aproximado de edad: {media_edad - std_edad} - {media_edad + std_edad}\")\n"
      ],
      "metadata": {
        "id": "CMFA_TAmh-mh",
        "outputId": "e37444c8-e6fc-4faf-9029-039c70cd70cb",
        "colab": {
          "base_uri": "https://localhost:8080/"
        }
      },
      "execution_count": 25,
      "outputs": [
        {
          "output_type": "stream",
          "name": "stdout",
          "text": [
            "Media de la edad: 41.231947679627304\n",
            "Desviación estándar de la edad: 11.913369192215445\n",
            "Rango aproximado de edad: 29.31857848741186 - 53.14531687184275\n"
          ]
        }
      ]
    },
    {
      "cell_type": "markdown",
      "source": [
        "### 4.2. Cálculo del coeficiente de variación (CV)\n"
      ],
      "metadata": {
        "id": "eJlV5cVYlleK"
      }
    },
    {
      "cell_type": "markdown",
      "source": [
        "Coeficiente de Variación (CV) = (Desviación Estándar / Media) * 100\n",
        "Esto nos da una métrica que nos permite comparar la variabilidad de dos o más variables independientemente de sus unidades o escalas.\n",
        "Se multiplica por 100 para expresar el resultado en porcentaje, facilitando la interpretación."
      ],
      "metadata": {
        "id": "dCQTHoC6ltPh"
      }
    },
    {
      "cell_type": "code",
      "source": [
        "# Calculamos el CV de la variable 'age' (edad).\n",
        "mean_age = pddf['age'].mean()\n",
        "std_age = pddf['age'].std()\n",
        "cv_age = (std_age / mean_age) * 100\n",
        "print(f\"Coeficiente de variación de la edad (age): {cv_age:.2f}%\")"
      ],
      "metadata": {
        "id": "whPbmq_hlocb",
        "outputId": "d5f4c258-de85-43b9-9c5f-678fb15a12aa",
        "colab": {
          "base_uri": "https://localhost:8080/"
        }
      },
      "execution_count": 26,
      "outputs": [
        {
          "output_type": "stream",
          "name": "stdout",
          "text": [
            "Coeficiente de variación de la edad (age): 28.89%\n"
          ]
        }
      ]
    },
    {
      "cell_type": "code",
      "source": [
        "\n",
        "# Calculamos el CV de la variable 'duration' (duración de las llamadas).\n",
        "mean_duration = pddf['duration'].mean()\n",
        "std_duration = pddf['duration'].std()\n",
        "cv_duration = (std_duration / mean_duration) * 100\n",
        "print(f\"Coeficiente de variación de la duración (duration): {cv_duration:.2f}%\")"
      ],
      "metadata": {
        "id": "sQ0qosl2lqAH",
        "outputId": "de632fb4-3768-4acc-cf72-49fb64db2653",
        "colab": {
          "base_uri": "https://localhost:8080/"
        }
      },
      "execution_count": 27,
      "outputs": [
        {
          "output_type": "stream",
          "name": "stdout",
          "text": [
            "Coeficiente de variación de la duración (duration): 93.32%\n"
          ]
        }
      ]
    },
    {
      "cell_type": "markdown",
      "source": [
        "**Interpretación:**\n",
        "\n",
        "CV de la edad (26.78%): Esto indica que la edad tiene una variabilidad moderada respecto a su media.\n",
        "\n",
        "CV de la duración (60.45%): La duración de las llamadas tiene una mayor variabilidad relativa que la edad, lo que sugiere que los tiempos de las llamadas son más dispersos en relación con su promedio."
      ],
      "metadata": {
        "id": "urKkgjGrl-Zg"
      }
    },
    {
      "cell_type": "markdown",
      "source": [
        "### 4.3. Rango"
      ],
      "metadata": {
        "id": "cuhT2eBwkhFo"
      }
    },
    {
      "cell_type": "markdown",
      "source": [
        "El rango es la diferencia entre el valor máximo y el valor mínimo de una variable.\n",
        "\n"
      ],
      "metadata": {
        "id": "UHNit9_Eko7H"
      }
    },
    {
      "cell_type": "code",
      "source": [
        "# Calculamos el rango de la edad.\n",
        "pddf['age'].max()\n",
        "pddf['age'].min()\n",
        "rango_edad = pddf['age'].max() - pddf['age'].min()\n",
        "print(pddf['age'].max())\n",
        "print(pddf['age'].min())\n",
        "print(f\"Rango de la edad: {rango_edad}\")\n"
      ],
      "metadata": {
        "id": "eg1TtMAckl8N",
        "outputId": "6122c5c6-fc4e-487e-c265-aa2d244146ec",
        "colab": {
          "base_uri": "https://localhost:8080/"
        }
      },
      "execution_count": 30,
      "outputs": [
        {
          "output_type": "stream",
          "name": "stdout",
          "text": [
            "95\n",
            "18\n",
            "Rango de la edad: 77\n"
          ]
        }
      ]
    },
    {
      "cell_type": "code",
      "source": [
        "#amplitud (bins)\n",
        "77/7"
      ],
      "metadata": {
        "id": "entE4b5gS0n3",
        "outputId": "01ac1a62-e3a1-471f-d4a9-b19162e493df",
        "colab": {
          "base_uri": "https://localhost:8080/"
        }
      },
      "execution_count": 31,
      "outputs": [
        {
          "output_type": "execute_result",
          "data": {
            "text/plain": [
              "11.0"
            ]
          },
          "metadata": {},
          "execution_count": 31
        }
      ]
    },
    {
      "cell_type": "markdown",
      "source": [
        "### 4.4 Cálculo de rangos estadísticos y conteo de casos\n"
      ],
      "metadata": {
        "id": "FzeswpFVk6NR"
      }
    },
    {
      "cell_type": "markdown",
      "source": [
        "Primero, definimos los rangos de edad manualmente para dividir la población en intervalos (rangos), luego contamos cuántos casos caen dentro de cada rango."
      ],
      "metadata": {
        "id": "Dzf3OisClH1j"
      }
    },
    {
      "cell_type": "code",
      "source": [
        "bins = list(range(18, 96, 11))\n",
        "bins[-1] = 96\n",
        "\n",
        "print(bins)\n"
      ],
      "metadata": {
        "id": "IFelDjN8Uvpm",
        "outputId": "2e303016-6ceb-49c6-d4ef-0dbc80b5892c",
        "colab": {
          "base_uri": "https://localhost:8080/"
        }
      },
      "execution_count": 36,
      "outputs": [
        {
          "output_type": "stream",
          "name": "stdout",
          "text": [
            "[18, 29, 40, 51, 62, 73, 84, 95]\n"
          ]
        }
      ]
    },
    {
      "cell_type": "code",
      "source": [
        "# Definimos los intervalos de edad (por ejemplo, en intervalos de 10 años).\n",
        "bins = [18, 29, 40, 51, 62, 73, 84, 95]\n",
        "\n",
        "# Usamos pd.cut para clasificar las edades en los rangos definidos.\n",
        "pddf['rango_edad'] = pd.cut(pddf['age'], bins=bins, right=False)\n"
      ],
      "metadata": {
        "id": "m-tlu0egk-w8"
      },
      "execution_count": 32,
      "outputs": []
    },
    {
      "cell_type": "code",
      "source": [
        "# Mostramos el conteo de casos por cada rango de edad.\n",
        "conteo_rangos = pddf['rango_edad'].value_counts().sort_index()\n",
        "\n",
        "print(conteo_rangos)\n"
      ],
      "metadata": {
        "id": "-ZfyT2mtlEL0",
        "outputId": "4ac9a226-a1f6-4909-a9bc-85fae17c51c5",
        "colab": {
          "base_uri": "https://localhost:8080/"
        }
      },
      "execution_count": 33,
      "outputs": [
        {
          "output_type": "stream",
          "name": "stdout",
          "text": [
            "rango_edad\n",
            "[18, 29)    1223\n",
            "[29, 40)    4646\n",
            "[40, 51)    2822\n",
            "[51, 62)    1926\n",
            "[62, 73)     327\n",
            "[73, 84)     189\n",
            "[84, 95)      28\n",
            "Name: count, dtype: int64\n"
          ]
        }
      ]
    },
    {
      "cell_type": "markdown",
      "source": [
        "## 5. Visualización de datos\n"
      ],
      "metadata": {
        "id": "8iQwMSjYjOPs"
      }
    },
    {
      "cell_type": "markdown",
      "source": [
        "### 5.1. Histogramas\n"
      ],
      "metadata": {
        "id": "P2YU1PVJjV6y"
      }
    },
    {
      "cell_type": "markdown",
      "source": [
        "El histograma nos ayuda a visualizar la frecuencia con la que aparecen ciertos valores de edad en el dataset."
      ],
      "metadata": {
        "id": "FG2Ui-tuja5N"
      }
    },
    {
      "cell_type": "code",
      "source": [
        "# Histograma de la edad para visualizar la distribución.\n",
        "pddf['age'].hist(bins=5)\n",
        "plt.title(\"Distribución de edades\")\n",
        "plt.xlabel(\"Edad\")\n",
        "plt.ylabel(\"Frecuencia\")\n",
        "plt.show()\n"
      ],
      "metadata": {
        "id": "rslTq_C0jY0A",
        "outputId": "121df473-f584-4103-e178-0fff1b475280",
        "colab": {
          "base_uri": "https://localhost:8080/",
          "height": 472
        }
      },
      "execution_count": 37,
      "outputs": [
        {
          "output_type": "display_data",
          "data": {
            "text/plain": [
              "<Figure size 640x480 with 1 Axes>"
            ],
            "image/png": "[encoded data removed]"
          },
          "metadata": {}
        }
      ]
    },
    {
      "cell_type": "code",
      "source": [
        "# Histograma más atractivo de la distribución de edades usando seaborn.\n",
        "plt.figure(figsize=(10,6))\n",
        "sns.histplot(pddf['age'], bins=10, kde=False, color='skyblue')\n",
        "plt.title(\"Distribución de Edades de Clientes\", fontsize=16)\n",
        "plt.xlabel(\"Edad\", fontsize=14)\n",
        "plt.ylabel(\"Frecuencia\", fontsize=14)\n",
        "plt.grid(True)\n",
        "plt.show()\n"
      ],
      "metadata": {
        "id": "uV8lTXBTkYdE",
        "outputId": "53585b30-51ee-4517-ef08-9947a32765d9",
        "colab": {
          "base_uri": "https://localhost:8080/",
          "height": 591
        }
      },
      "execution_count": 40,
      "outputs": [
        {
          "output_type": "display_data",
          "data": {
            "text/plain": [
              "<Figure size 1000x600 with 1 Axes>"
            ],
            "image/png": "[encoded data removed]"
          },
          "metadata": {}
        }
      ]
    },
    {
      "cell_type": "markdown",
      "source": [
        "### 5.2. Boxplots\n"
      ],
      "metadata": {
        "id": "6_3sktrPjhtH"
      }
    },
    {
      "cell_type": "code",
      "source": [
        "# Boxplot de la duración de la llamada.\n",
        "plt.figure(figsize=(12,4))\n",
        "sns.boxplot(x='age', data=pddf)\n",
        "plt.title(\"Boxplot de la Edad\")\n",
        "plt.show()\n"
      ],
      "metadata": {
        "id": "V63w8pdijhPZ",
        "outputId": "c51a3968-0c66-421f-9575-af69eb39ce6a",
        "colab": {
          "base_uri": "https://localhost:8080/",
          "height": 331
        }
      },
      "execution_count": 42,
      "outputs": [
        {
          "output_type": "stream",
          "name": "stderr",
          "text": [
            "/usr/local/lib/python3.10/dist-packages/seaborn/categorical.py:640: FutureWarning: SeriesGroupBy.grouper is deprecated and will be removed in a future version of pandas.\n",
            "  positions = grouped.grouper.result_index.to_numpy(dtype=float)\n"
          ]
        },
        {
          "output_type": "display_data",
          "data": {
            "text/plain": [
              "<Figure size 1200x400 with 1 Axes>"
            ],
            "image/png": "[encoded data removed]"
          },
          "metadata": {}
        }
      ]
    },
    {
      "cell_type": "code",
      "source": [
        "plt.figure(figsize=(6,6))\n",
        "sns.boxplot(y='age', data=pddf, orient='y', hue='marital')"
      ],
      "metadata": {
        "id": "YE5bylnkchBF",
        "outputId": "c7dd2c53-cbe7-413c-ec28-fca81446939a",
        "colab": {
          "base_uri": "https://localhost:8080/",
          "height": 749
        }
      },
      "execution_count": 49,
      "outputs": [
        {
          "output_type": "stream",
          "name": "stderr",
          "text": [
            "/usr/local/lib/python3.10/dist-packages/seaborn/_base.py:949: FutureWarning: When grouping with a length-1 list-like, you will need to pass a length-1 tuple to get_group in a future version of pandas. Pass `(name,)` instead of `name` to silence this warning.\n",
            "  data_subset = grouped_data.get_group(pd_key)\n",
            "/usr/local/lib/python3.10/dist-packages/seaborn/categorical.py:640: FutureWarning: SeriesGroupBy.grouper is deprecated and will be removed in a future version of pandas.\n",
            "  positions = grouped.grouper.result_index.to_numpy(dtype=float)\n",
            "/usr/local/lib/python3.10/dist-packages/seaborn/_base.py:949: FutureWarning: When grouping with a length-1 list-like, you will need to pass a length-1 tuple to get_group in a future version of pandas. Pass `(name,)` instead of `name` to silence this warning.\n",
            "  data_subset = grouped_data.get_group(pd_key)\n",
            "/usr/local/lib/python3.10/dist-packages/seaborn/categorical.py:640: FutureWarning: SeriesGroupBy.grouper is deprecated and will be removed in a future version of pandas.\n",
            "  positions = grouped.grouper.result_index.to_numpy(dtype=float)\n",
            "/usr/local/lib/python3.10/dist-packages/seaborn/_base.py:949: FutureWarning: When grouping with a length-1 list-like, you will need to pass a length-1 tuple to get_group in a future version of pandas. Pass `(name,)` instead of `name` to silence this warning.\n",
            "  data_subset = grouped_data.get_group(pd_key)\n",
            "/usr/local/lib/python3.10/dist-packages/seaborn/categorical.py:640: FutureWarning: SeriesGroupBy.grouper is deprecated and will be removed in a future version of pandas.\n",
            "  positions = grouped.grouper.result_index.to_numpy(dtype=float)\n"
          ]
        },
        {
          "output_type": "execute_result",
          "data": {
            "text/plain": [
              "<Axes: ylabel='age'>"
            ]
          },
          "metadata": {},
          "execution_count": 49
        },
        {
          "output_type": "display_data",
          "data": {
            "text/plain": [
              "<Figure size 600x600 with 1 Axes>"
            ],
            "image/png": "[encoded data removed]"
          },
          "metadata": {}
        }
      ]
    },
    {
      "cell_type": "markdown",
      "source": [
        "El boxplot nos permite visualizar la dispersión de los datos y detectar valores atípicos (outliers).\n",
        "\n"
      ],
      "metadata": {
        "id": "ZsfAm8bmjl8O"
      }
    },
    {
      "cell_type": "code",
      "source": [
        "plt.figure(figsize=(12,6))\n",
        "sns.boxplot(y='age', data=pddf, orient='y', hue='job')"
      ],
      "metadata": {
        "id": "07wHN41BeEfy",
        "outputId": "670355a5-81b1-4965-8509-bcca71d04615",
        "colab": {
          "base_uri": "https://localhost:8080/",
          "height": 1000
        }
      },
      "execution_count": 50,
      "outputs": [
        {
          "output_type": "stream",
          "name": "stderr",
          "text": [
            "/usr/local/lib/python3.10/dist-packages/seaborn/_base.py:949: FutureWarning: When grouping with a length-1 list-like, you will need to pass a length-1 tuple to get_group in a future version of pandas. Pass `(name,)` instead of `name` to silence this warning.\n",
            "  data_subset = grouped_data.get_group(pd_key)\n",
            "/usr/local/lib/python3.10/dist-packages/seaborn/categorical.py:640: FutureWarning: SeriesGroupBy.grouper is deprecated and will be removed in a future version of pandas.\n",
            "  positions = grouped.grouper.result_index.to_numpy(dtype=float)\n",
            "/usr/local/lib/python3.10/dist-packages/seaborn/_base.py:949: FutureWarning: When grouping with a length-1 list-like, you will need to pass a length-1 tuple to get_group in a future version of pandas. Pass `(name,)` instead of `name` to silence this warning.\n",
            "  data_subset = grouped_data.get_group(pd_key)\n",
            "/usr/local/lib/python3.10/dist-packages/seaborn/categorical.py:640: FutureWarning: SeriesGroupBy.grouper is deprecated and will be removed in a future version of pandas.\n",
            "  positions = grouped.grouper.result_index.to_numpy(dtype=float)\n",
            "/usr/local/lib/python3.10/dist-packages/seaborn/_base.py:949: FutureWarning: When grouping with a length-1 list-like, you will need to pass a length-1 tuple to get_group in a future version of pandas. Pass `(name,)` instead of `name` to silence this warning.\n",
            "  data_subset = grouped_data.get_group(pd_key)\n",
            "/usr/local/lib/python3.10/dist-packages/seaborn/categorical.py:640: FutureWarning: SeriesGroupBy.grouper is deprecated and will be removed in a future version of pandas.\n",
            "  positions = grouped.grouper.result_index.to_numpy(dtype=float)\n",
            "/usr/local/lib/python3.10/dist-packages/seaborn/_base.py:949: FutureWarning: When grouping with a length-1 list-like, you will need to pass a length-1 tuple to get_group in a future version of pandas. Pass `(name,)` instead of `name` to silence this warning.\n",
            "  data_subset = grouped_data.get_group(pd_key)\n",
            "/usr/local/lib/python3.10/dist-packages/seaborn/categorical.py:640: FutureWarning: SeriesGroupBy.grouper is deprecated and will be removed in a future version of pandas.\n",
            "  positions = grouped.grouper.result_index.to_numpy(dtype=float)\n",
            "/usr/local/lib/python3.10/dist-packages/seaborn/_base.py:949: FutureWarning: When grouping with a length-1 list-like, you will need to pass a length-1 tuple to get_group in a future version of pandas. Pass `(name,)` instead of `name` to silence this warning.\n",
            "  data_subset = grouped_data.get_group(pd_key)\n",
            "/usr/local/lib/python3.10/dist-packages/seaborn/categorical.py:640: FutureWarning: SeriesGroupBy.grouper is deprecated and will be removed in a future version of pandas.\n",
            "  positions = grouped.grouper.result_index.to_numpy(dtype=float)\n",
            "/usr/local/lib/python3.10/dist-packages/seaborn/_base.py:949: FutureWarning: When grouping with a length-1 list-like, you will need to pass a length-1 tuple to get_group in a future version of pandas. Pass `(name,)` instead of `name` to silence this warning.\n",
            "  data_subset = grouped_data.get_group(pd_key)\n",
            "/usr/local/lib/python3.10/dist-packages/seaborn/categorical.py:640: FutureWarning: SeriesGroupBy.grouper is deprecated and will be removed in a future version of pandas.\n",
            "  positions = grouped.grouper.result_index.to_numpy(dtype=float)\n",
            "/usr/local/lib/python3.10/dist-packages/seaborn/_base.py:949: FutureWarning: When grouping with a length-1 list-like, you will need to pass a length-1 tuple to get_group in a future version of pandas. Pass `(name,)` instead of `name` to silence this warning.\n",
            "  data_subset = grouped_data.get_group(pd_key)\n",
            "/usr/local/lib/python3.10/dist-packages/seaborn/categorical.py:640: FutureWarning: SeriesGroupBy.grouper is deprecated and will be removed in a future version of pandas.\n",
            "  positions = grouped.grouper.result_index.to_numpy(dtype=float)\n",
            "/usr/local/lib/python3.10/dist-packages/seaborn/_base.py:949: FutureWarning: When grouping with a length-1 list-like, you will need to pass a length-1 tuple to get_group in a future version of pandas. Pass `(name,)` instead of `name` to silence this warning.\n",
            "  data_subset = grouped_data.get_group(pd_key)\n",
            "/usr/local/lib/python3.10/dist-packages/seaborn/categorical.py:640: FutureWarning: SeriesGroupBy.grouper is deprecated and will be removed in a future version of pandas.\n",
            "  positions = grouped.grouper.result_index.to_numpy(dtype=float)\n",
            "/usr/local/lib/python3.10/dist-packages/seaborn/_base.py:949: FutureWarning: When grouping with a length-1 list-like, you will need to pass a length-1 tuple to get_group in a future version of pandas. Pass `(name,)` instead of `name` to silence this warning.\n",
            "  data_subset = grouped_data.get_group(pd_key)\n",
            "/usr/local/lib/python3.10/dist-packages/seaborn/categorical.py:640: FutureWarning: SeriesGroupBy.grouper is deprecated and will be removed in a future version of pandas.\n",
            "  positions = grouped.grouper.result_index.to_numpy(dtype=float)\n",
            "/usr/local/lib/python3.10/dist-packages/seaborn/_base.py:949: FutureWarning: When grouping with a length-1 list-like, you will need to pass a length-1 tuple to get_group in a future version of pandas. Pass `(name,)` instead of `name` to silence this warning.\n",
            "  data_subset = grouped_data.get_group(pd_key)\n",
            "/usr/local/lib/python3.10/dist-packages/seaborn/categorical.py:640: FutureWarning: SeriesGroupBy.grouper is deprecated and will be removed in a future version of pandas.\n",
            "  positions = grouped.grouper.result_index.to_numpy(dtype=float)\n",
            "/usr/local/lib/python3.10/dist-packages/seaborn/_base.py:949: FutureWarning: When grouping with a length-1 list-like, you will need to pass a length-1 tuple to get_group in a future version of pandas. Pass `(name,)` instead of `name` to silence this warning.\n",
            "  data_subset = grouped_data.get_group(pd_key)\n",
            "/usr/local/lib/python3.10/dist-packages/seaborn/categorical.py:640: FutureWarning: SeriesGroupBy.grouper is deprecated and will be removed in a future version of pandas.\n",
            "  positions = grouped.grouper.result_index.to_numpy(dtype=float)\n",
            "/usr/local/lib/python3.10/dist-packages/seaborn/_base.py:949: FutureWarning: When grouping with a length-1 list-like, you will need to pass a length-1 tuple to get_group in a future version of pandas. Pass `(name,)` instead of `name` to silence this warning.\n",
            "  data_subset = grouped_data.get_group(pd_key)\n",
            "/usr/local/lib/python3.10/dist-packages/seaborn/categorical.py:640: FutureWarning: SeriesGroupBy.grouper is deprecated and will be removed in a future version of pandas.\n",
            "  positions = grouped.grouper.result_index.to_numpy(dtype=float)\n"
          ]
        },
        {
          "output_type": "execute_result",
          "data": {
            "text/plain": [
              "<Axes: ylabel='age'>"
            ]
          },
          "metadata": {},
          "execution_count": 50
        },
        {
          "output_type": "display_data",
          "data": {
            "text/plain": [
              "<Figure size 1200x600 with 1 Axes>"
            ],
            "image/png": "[encoded data removed]"
          },
          "metadata": {}
        }
      ]
    },
    {
      "cell_type": "markdown",
      "source": [
        "**Identificación de outliers usando el rango intercuartílico (IQR)**\n"
      ],
      "metadata": {
        "id": "oyJsssp0jrWY"
      }
    },
    {
      "cell_type": "code",
      "source": [
        "# Calculamos los límites para detectar outliers.\n",
        "Q1 = np.percentile(pddf['age'], 25)\n",
        "Q3 = np.percentile(pddf['age'], 75)\n",
        "RIC = Q3 - Q1\n",
        "upper_limit = Q3 + 1.5*RIC\n",
        "lower_limit = Q1 - 1.5*RIC\n",
        "print(f\"Límite superior: {upper_limit}\")\n",
        "print(f\"Límite inferior: {lower_limit}\")\n"
      ],
      "metadata": {
        "id": "7rj1pPtcjvHn"
      },
      "execution_count": null,
      "outputs": []
    },
    {
      "cell_type": "markdown",
      "source": [
        "El rango intercuartílico nos ayuda a identificar los outliers, o valores atípicos, que están muy alejados del rango normal de los datos."
      ],
      "metadata": {
        "id": "GKXAr9I9jxeb"
      }
    },
    {
      "cell_type": "markdown",
      "source": [
        "## Conclusión:\n",
        "\n",
        "Has completado el laboratorio de Introducción y Estadística Descriptiva utilizando Python. A lo largo del análisis, hemos utilizado diversas herramientas para explorar y entender el dataset de manera eficaz. Las técnicas mostradas aquí son aplicables a cualquier análisis de datos en Ciencia de Datos."
      ],
      "metadata": {
        "id": "eoT6UpOgj0Ed"
      }
    },
    {
      "cell_type": "markdown",
      "source": [
        "---"
      ],
      "metadata": {
        "id": "Fwu-sO9RmmaX"
      }
    },
    {
      "cell_type": "markdown",
      "source": [
        "## Reto: Desafíos Estadísticos\n"
      ],
      "metadata": {
        "id": "S93fw_ywmrMv"
      }
    },
    {
      "cell_type": "markdown",
      "source": [
        "A continuación, tienes seis preguntas retadoras para que pongas en práctica lo que has aprendido sobre estadística descriptiva y visualización de datos en Python. Utiliza el dataset de **Bank Marketing** para resolverlas. ¡Manos a la obra!\n"
      ],
      "metadata": {
        "id": "xefbMZaqmsor"
      }
    },
    {
      "cell_type": "markdown",
      "source": [
        "1. **¿Cuál es el coeficiente de variación del balance (`balance`) de los clientes?**  \n",
        "   - Compara este coeficiente con el de las variables `age` (edad) y `duration` (duración). ¿Cuál de estas variables tiene mayor variabilidad relativa? ¿Por qué crees que ocurre esto?"
      ],
      "metadata": {
        "id": "XY6ni5CKmuow"
      }
    },
    {
      "cell_type": "code",
      "source": [],
      "metadata": {
        "id": "QMxK7LA6m3Ct"
      },
      "execution_count": null,
      "outputs": []
    },
    {
      "cell_type": "markdown",
      "source": [
        "\n",
        "2. **Realiza un análisis agrupado por nivel de educación (`education`) y calcula la media, mediana y desviación estándar del `balance` de los clientes.**  \n",
        "   - ¿Existen diferencias significativas en el `balance` promedio entre los diferentes niveles educativos? ¿Qué implicaciones podría tener esto para una campaña de marketing?\n"
      ],
      "metadata": {
        "id": "9WRz1mN6mxx7"
      }
    },
    {
      "cell_type": "code",
      "source": [],
      "metadata": {
        "id": "e8SCPXejm3r2"
      },
      "execution_count": null,
      "outputs": []
    },
    {
      "cell_type": "markdown",
      "source": [
        "3. **Calcula los rangos intercuartílicos (RIC) para las variables `duration` y `campaign` (número de contactos realizados durante la campaña).**  \n",
        "   - Compara ambos RIC y discute cuál de las dos variables tiene una mayor dispersión alrededor de la mediana."
      ],
      "metadata": {
        "id": "_AxiOoJ9m6TM"
      }
    },
    {
      "cell_type": "code",
      "source": [],
      "metadata": {
        "id": "oLXrhDMOm5va"
      },
      "execution_count": null,
      "outputs": []
    },
    {
      "cell_type": "markdown",
      "source": [
        "\n",
        "4. **Crea un histograma y un boxplot para la variable `balance`.**  \n",
        "   - A partir de estos gráficos, identifica si existen valores atípicos (outliers) y describe cómo afectan la distribución del balance."
      ],
      "metadata": {
        "id": "hYTmvIimm8rA"
      }
    },
    {
      "cell_type": "code",
      "source": [],
      "metadata": {
        "id": "reBhoO2cm-tH"
      },
      "execution_count": null,
      "outputs": []
    },
    {
      "cell_type": "markdown",
      "source": [
        "\n",
        "5. **Utilizando la función `groupby`, analiza la media y el rango intercuartílico (RIC) de la variable `duration` en función de la variable `job` (profesión).**  \n",
        "   - ¿Qué profesiones tienden a tener mayor duración de llamadas? ¿Podrías identificar algún patrón que pueda interesar a un equipo de marketing?"
      ],
      "metadata": {
        "id": "XO8u0Te6m_PQ"
      }
    },
    {
      "cell_type": "code",
      "source": [],
      "metadata": {
        "id": "m0-rgGTsm_r0"
      },
      "execution_count": null,
      "outputs": []
    },
    {
      "cell_type": "markdown",
      "source": [
        "6. **Usa el método de rangos estadísticos para dividir la variable `balance` en cinco categorías (bins).**  \n",
        "   - Luego, crea una tabla que muestre el conteo de clientes en cada categoría y visualízalo en un gráfico de barras. ¿Qué puedes inferir sobre la distribución del `balance` de los clientes?\n",
        "\n"
      ],
      "metadata": {
        "id": "NXPbpxF8mf39"
      }
    },
    {
      "cell_type": "code",
      "source": [],
      "metadata": {
        "id": "1VcHyNO3nREt"
      },
      "execution_count": null,
      "outputs": []
    },
    {
      "cell_type": "markdown",
      "source": [
        "---\n",
        "## Gracias por completar este laboratorio!"
      ],
      "metadata": {
        "id": "vxZAifyHeiuc"
      }
    }
  ]
}